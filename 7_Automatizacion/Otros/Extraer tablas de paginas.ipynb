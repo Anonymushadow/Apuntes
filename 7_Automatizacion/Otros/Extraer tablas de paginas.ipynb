{
 "cells": [
  {
   "cell_type": "code",
   "execution_count": 1,
   "id": "b9b9e2b1",
   "metadata": {},
   "outputs": [
    {
     "data": {
      "text/plain": [
       "[  Tipo de dato                                  Breve descripción\n",
       " 0         Char  Estas variables contienen un único carácter, e...\n",
       " 1          Int                        Contienen un número entero.\n",
       " 2        Float                       Contienen un número decimal.\n",
       " 3       String  Contienen cadenas de texto, o lo que es lo mis...\n",
       " 4      Boolean             Solo pueden contener un cero o un uno.,\n",
       "                         0                                                  1\n",
       " 0  Control de autoridades  Proyectos Wikimedia  Datos: Q9143  Multimedia:...]"
      ]
     },
     "execution_count": 1,
     "metadata": {},
     "output_type": "execute_result"
    }
   ],
   "source": [
    "import pandas as pd\n",
    "\n",
    "page = pd.read_html(\"https://es.wikipedia.org/wiki/Lenguaje_de_programaci%C3%B3n\")\n",
    "page"
   ]
  },
  {
   "cell_type": "code",
   "execution_count": null,
   "id": "7b74274d",
   "metadata": {},
   "outputs": [],
   "source": []
  }
 ],
 "metadata": {
  "kernelspec": {
   "display_name": "Python 3 (ipykernel)",
   "language": "python",
   "name": "python3"
  },
  "language_info": {
   "codemirror_mode": {
    "name": "ipython",
    "version": 3
   },
   "file_extension": ".py",
   "mimetype": "text/x-python",
   "name": "python",
   "nbconvert_exporter": "python",
   "pygments_lexer": "ipython3",
   "version": "3.9.12"
  }
 },
 "nbformat": 4,
 "nbformat_minor": 5
}
