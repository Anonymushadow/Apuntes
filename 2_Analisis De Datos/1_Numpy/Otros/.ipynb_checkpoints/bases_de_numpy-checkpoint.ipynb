{
 "cells": [
  {
   "cell_type": "code",
   "execution_count": 5,
   "id": "a4b5a318",
   "metadata": {},
   "outputs": [],
   "source": [
    "#ndarray --> array de numpy\n",
    "#todos sus datos sn del mismp tipo\n",
    "#no se pueden modifcar el tamaño\n",
    "#se puede cambiar el orden de los elemntos y la organizacion\n",
    "import numpy as np"
   ]
  },
  {
   "cell_type": "code",
   "execution_count": 6,
   "id": "f9d9ee52",
   "metadata": {},
   "outputs": [
    {
     "name": "stdout",
     "output_type": "stream",
     "text": [
      "Array vacio: [['' '']\n",
      " ['' '']\n",
      " ['' '']]\n",
      "Array vacio like: [1 2 3 4 5]\n"
     ]
    }
   ],
   "source": [
    "#np.empty((filas, columnas), tipo de datos)\n",
    "array_vacio = np.empty((3, 2), dtype = np.compat.unicode)\n",
    "print(f'Array vacio: {array_vacio}')\n",
    "\n",
    "array_vacio_como= np.empty_like([1, 2, 3, 4, 5])\n",
    "print(f'Array vacio like: {array_vacio_como}')"
   ]
  },
  {
   "cell_type": "code",
   "execution_count": 7,
   "id": "50ff80f4",
   "metadata": {},
   "outputs": [
    {
     "name": "stdout",
     "output_type": "stream",
     "text": [
      "Array de unos: [[1. 1.]\n",
      " [1. 1.]\n",
      " [1. 1.]]\n",
      "Array de unos like: [1 1 1 1]\n"
     ]
    }
   ],
   "source": [
    "array_uno = np.ones((3, 2))\n",
    "print(f'Array de unos: {array_uno}')\n",
    "\n",
    "\n",
    "array_uno_como = np.ones_like([2,5,2,7])\n",
    "print(f'Array de unos like: {array_uno_como}')"
   ]
  },
  {
   "cell_type": "code",
   "execution_count": 8,
   "id": "6a657494",
   "metadata": {},
   "outputs": [
    {
     "name": "stdout",
     "output_type": "stream",
     "text": [
      "Array de ceros: [[0. 0.]\n",
      " [0. 0.]\n",
      " [0. 0.]]\n",
      "Array de ceros like: [0 0]\n"
     ]
    }
   ],
   "source": [
    "array_cero = np.zeros((3, 2))\n",
    "print(f'Array de ceros: {array_cero}')\n",
    "\n",
    "array_cero_como = np.zeros_like((3, 2))\n",
    "print(f'Array de ceros like: {array_cero_como}')"
   ]
  },
  {
   "cell_type": "code",
   "execution_count": 9,
   "id": "e2e430fd",
   "metadata": {},
   "outputs": [
    {
     "name": "stdout",
     "output_type": "stream",
     "text": [
      "[[1. 0. 0.]\n",
      " [0. 1. 0.]\n",
      " [0. 0. 1.]]\n"
     ]
    }
   ],
   "source": [
    "#matriz de 3x3\n",
    "array_identidad = np.identity(3)\n",
    "print(array_identidad)"
   ]
  },
  {
   "cell_type": "code",
   "execution_count": 12,
   "id": "a5c9cd6a",
   "metadata": {},
   "outputs": [
    {
     "name": "stdout",
     "output_type": "stream",
     "text": [
      "[[1. 0. 0. 0.]\n",
      " [0. 1. 0. 0.]\n",
      " [0. 0. 1. 0.]\n",
      " [0. 0. 0. 1.]]\n",
      "[[0. 1. 0.]\n",
      " [0. 0. 1.]\n",
      " [0. 0. 0.]\n",
      " [0. 0. 0.]]\n"
     ]
    }
   ],
   "source": [
    "#matriz diagonal de 4x4\n",
    "array_diagonal = np.eye(4)\n",
    "print(array_diagonal)\n",
    "\n",
    "#matriz diagonal de 4x3 con la fila 1 mas adelante\n",
    "array_diagonal_dos = np.eye(4, 3, k = 1)\n",
    "print(array_diagonal_dos)"
   ]
  },
  {
   "cell_type": "code",
   "execution_count": 17,
   "id": "fac618f8",
   "metadata": {},
   "outputs": [
    {
     "name": "stdout",
     "output_type": "stream",
     "text": [
      "[0 1 2 3 4 5 6 7 8 9]\n",
      "[ 5  6  7  8  9 10 11 12 13 14 15 16 17 18 19]\n",
      "[2 4 6 8]\n"
     ]
    }
   ],
   "source": [
    "#crear una lista del 0 al 10\n",
    "array = np.arange(10)\n",
    "print(array)\n",
    "\n",
    "#crear una lista del 5 al 20\n",
    "array_dos = np.arange(5, 20)\n",
    "print(array_dos)\n",
    "\n",
    "#crear una lista del 2 al 10 de 2 en 2\n",
    "array_tres = np.arange(2, 10, 2)\n",
    "print(array_tres)"
   ]
  },
  {
   "cell_type": "code",
   "execution_count": 23,
   "id": "355a36da",
   "metadata": {},
   "outputs": [
    {
     "name": "stdout",
     "output_type": "stream",
     "text": [
      "[2 5 2 6]\n",
      "[[ 2  5  1  0]\n",
      " [ 9  8 10 12]]\n"
     ]
    }
   ],
   "source": [
    "#array unidimensional\n",
    "uni = np.array([2, 5, 2, 6])\n",
    "print(uni)\n",
    "\n",
    "#array bidimensional --> matriz\n",
    "bi = np.array([ [2, 5, 1, 0], [9, 8, 10, 12] ])\n",
    "print(bi)"
   ]
  },
  {
   "cell_type": "code",
   "execution_count": null,
   "id": "c0835705",
   "metadata": {},
   "outputs": [],
   "source": [
    "#\n",
    "#np.int --> numero\n",
    "    #8 --> ocupa 8 bits\n",
    "    #16 --> ocupa 16 bits\n",
    "    #32 --> ocupa 32 bits\n",
    "    #64 --> ocupa 64 bits\n",
    "    \n",
    "#np.uint --> numeros mas grandes que 0 incluyendole\n",
    "    #8 --> ocupa 8 bits\n",
    "    #16 --> ocupa 16 bits\n",
    "    #32 --> ocupa 32 bits\n",
    "    #64 --> ocupa 64 bits\n",
    "    \n",
    "#np.float --> numero decimales\n",
    "    #8 --> ocupa 8 bits\n",
    "    #16 --> ocupa 16 bits\n",
    "    #32 --> ocupa 32 bits\n",
    "    #64 --> ocupa 64 bits\n",
    "    #128--> ocupa 128 bits\n",
    "    \n",
    "#np.bool --> booleanos\n",
    "\n",
    "#np.object --> objetos\n",
    "\n",
    "#np.string/np.unicode --> cadenas de texto"
   ]
  },
  {
   "cell_type": "code",
   "execution_count": 27,
   "id": "308824f6",
   "metadata": {},
   "outputs": [
    {
     "name": "stdout",
     "output_type": "stream",
     "text": [
      "[1 2 3 4 5 6]\n",
      "[1 2 3 4 5 6]\n"
     ]
    }
   ],
   "source": [
    "arr = np.array([1, 2, 3, 4, 5 ,6], dtype = np.int16)\n",
    "print(arr)\n",
    "\n",
    "arr_text = np.array(arr, dtype = np.compat.unicode)\n",
    "print(arr)"
   ]
  },
  {
   "cell_type": "code",
   "execution_count": 29,
   "id": "b8cf0a94",
   "metadata": {},
   "outputs": [
    {
     "name": "stdout",
     "output_type": "stream",
     "text": [
      "int32\n",
      "2\n",
      "(3, 5)\n",
      "15\n"
     ]
    }
   ],
   "source": [
    "arr_prueba = np.array([[1, 2, 3, 4, 5], [6, 7, 8, 9, 10], [11, 12, 13, 14, 15]])\n",
    "print(arr_prueba.dtype)\n",
    "print(arr_prueba.ndim)\n",
    "print(arr_prueba.shape)\n",
    "print(arr_prueba.size)"
   ]
  },
  {
   "cell_type": "code",
   "execution_count": 30,
   "id": "9b49818f",
   "metadata": {},
   "outputs": [
    {
     "name": "stdout",
     "output_type": "stream",
     "text": [
      "[[ 6  7  8  9 10]\n",
      " [11 12 13 14 15]\n",
      " [16 17 18 19 20]]\n",
      "[[-1  0  1  2  3]\n",
      " [ 4  5  6  7  8]\n",
      " [ 9 10 11 12 13]]\n",
      "[[ 3  6  9 12 15]\n",
      " [18 21 24 27 30]\n",
      " [33 36 39 42 45]]\n",
      "[[ 1.  2.  3.  4.  5.]\n",
      " [ 6.  7.  8.  9. 10.]\n",
      " [11. 12. 13. 14. 15.]]\n",
      "[[0 1 1 2 2]\n",
      " [3 3 4 4 5]\n",
      " [5 6 6 7 7]]\n",
      "[[  1   4   9  16  25]\n",
      " [ 36  49  64  81 100]\n",
      " [121 144 169 196 225]]\n"
     ]
    }
   ],
   "source": [
    "#a cada elemento le suma 5\n",
    "arr_new = arr_prueba + 5\n",
    "print(arr_new)\n",
    "\n",
    "\n",
    "arr_new = arr_prueba - 2\n",
    "print(arr_new)\n",
    "\n",
    "\n",
    "arr_new = arr_prueba * 3\n",
    "print(arr_new)\n",
    "\n",
    "\n",
    "arr_new = arr_prueba / 1\n",
    "print(arr_new)\n",
    "\n",
    "\n",
    "arr_new = arr_prueba // 2\n",
    "print(arr_new)\n",
    "\n",
    "\n",
    "arr_new = arr_prueba ** 2\n",
    "print(arr_new)"
   ]
  },
  {
   "cell_type": "code",
   "execution_count": 31,
   "id": "e49aba1b",
   "metadata": {},
   "outputs": [
    {
     "name": "stdout",
     "output_type": "stream",
     "text": [
      "[0 1 2 3 4]\n"
     ]
    }
   ],
   "source": [
    "array_cambio = np.arange(11)\n",
    "print(array_cambio[array_cambio < 5])"
   ]
  },
  {
   "cell_type": "code",
   "execution_count": 33,
   "id": "3e5a3745",
   "metadata": {},
   "outputs": [
    {
     "name": "stdout",
     "output_type": "stream",
     "text": [
      "['Miguel' 'Pablo' 'Clara']\n"
     ]
    }
   ],
   "source": [
    "#filtrar\n",
    "personas = np.array([\"Miguel\", \"Tomas\", \"Pablo\", \"Clara\"])\n",
    "print(personas[personas != \"Tomas\"])"
   ]
  },
  {
   "cell_type": "code",
   "execution_count": 34,
   "id": "395ec1b9",
   "metadata": {},
   "outputs": [
    {
     "name": "stdout",
     "output_type": "stream",
     "text": [
      "[[ 0.52169757  0.02685008 -1.1705866   0.80810165]\n",
      " [ 0.53887236 -1.42122981  0.41590394  1.053867  ]\n",
      " [ 0.10858556  1.38901589  0.64409907 -0.54507057]\n",
      " [-0.20407454 -0.10339981  0.93824901 -1.07597281]\n",
      " [ 0.13273659 -0.50114589  0.43151162 -1.34312133]\n",
      " [ 0.61330102  0.26885403  1.51385381 -0.66335316]\n",
      " [-1.28507547 -0.98758868  0.87560761  0.66084629]]\n"
     ]
    }
   ],
   "source": [
    "randm = np.random.randn(7, 4)\n",
    "print(randm)"
   ]
  },
  {
   "cell_type": "code",
   "execution_count": 35,
   "id": "c939b680",
   "metadata": {},
   "outputs": [
    {
     "name": "stdout",
     "output_type": "stream",
     "text": [
      "[[0.52169757 0.02685008 0.         0.80810165]\n",
      " [0.53887236 0.         0.41590394 1.053867  ]\n",
      " [0.10858556 1.38901589 0.64409907 0.        ]\n",
      " [0.         0.         0.93824901 0.        ]\n",
      " [0.13273659 0.         0.43151162 0.        ]\n",
      " [0.61330102 0.26885403 1.51385381 0.        ]\n",
      " [0.         0.         0.87560761 0.66084629]]\n"
     ]
    }
   ],
   "source": [
    "#eliminar negativos\n",
    "randm[randm < 0] = 0\n",
    "print(randm)"
   ]
  },
  {
   "cell_type": "code",
   "execution_count": 36,
   "id": "e06ea3ce",
   "metadata": {},
   "outputs": [
    {
     "name": "stdout",
     "output_type": "stream",
     "text": [
      "[[0.52169757 0.02685008 0.         0.80810165]\n",
      " [0.53887236 0.         0.41590394 1.053867  ]\n",
      " [0.10858556 1.38901589 0.64409907 0.        ]\n",
      " [0.         0.         0.93824901 0.        ]\n",
      " [0.13273659 0.         0.43151162 0.        ]\n",
      " [0.61330102 0.26885403 1.51385381 0.        ]\n",
      " [0.         0.         0.87560761 0.66084629]]\n"
     ]
    }
   ],
   "source": [
    "randm.reshape(4, 7)\n",
    "print(randm)"
   ]
  },
  {
   "cell_type": "code",
   "execution_count": 37,
   "id": "4f090378",
   "metadata": {},
   "outputs": [
    {
     "name": "stdout",
     "output_type": "stream",
     "text": [
      "[[ 0  1  2  3]\n",
      " [ 4  5  6  7]\n",
      " [ 8  9 10 11]\n",
      " [12 13 14 15]\n",
      " [16 17 18 19]\n",
      " [20 21 22 23]\n",
      " [24 25 26 27]\n",
      " [28 29 30 31]]\n"
     ]
    }
   ],
   "source": [
    "arr_shape = np.arange(32).reshape(8, 4)\n",
    "print(arr_shape)"
   ]
  },
  {
   "cell_type": "code",
   "execution_count": 38,
   "id": "db0155b4",
   "metadata": {},
   "outputs": [
    {
     "name": "stdout",
     "output_type": "stream",
     "text": [
      "[[0.         0.52169757 0.80810165]\n",
      " [0.41590394 0.53887236 1.053867  ]\n",
      " [0.64409907 0.10858556 0.        ]\n",
      " [0.93824901 0.         0.        ]\n",
      " [0.43151162 0.13273659 0.        ]\n",
      " [1.51385381 0.61330102 0.        ]\n",
      " [0.87560761 0.         0.66084629]]\n"
     ]
    }
   ],
   "source": [
    "#todas las filas y x cantidad de columnas\n",
    "print(randm[:, [2, 0, 3]])"
   ]
  },
  {
   "cell_type": "code",
   "execution_count": 39,
   "id": "0c6675fd",
   "metadata": {},
   "outputs": [
    {
     "name": "stdout",
     "output_type": "stream",
     "text": [
      "[[0.10858556 1.38901589 0.64409907 0.        ]\n",
      " [0.52169757 0.02685008 0.         0.80810165]\n",
      " [0.         0.         0.93824901 0.        ]]\n"
     ]
    }
   ],
   "source": [
    "#todas las columnas y x cantidad de filas\n",
    "print(randm[[2, 0, 3], :])"
   ]
  },
  {
   "cell_type": "code",
   "execution_count": 41,
   "id": "daf5e32f",
   "metadata": {},
   "outputs": [
    {
     "name": "stdout",
     "output_type": "stream",
     "text": [
      "[[0.52169757 0.53887236 0.10858556 0.         0.13273659 0.61330102\n",
      "  0.        ]\n",
      " [0.02685008 0.         1.38901589 0.         0.         0.26885403\n",
      "  0.        ]\n",
      " [0.         0.41590394 0.64409907 0.93824901 0.43151162 1.51385381\n",
      "  0.87560761]\n",
      " [0.80810165 1.053867   0.         0.         0.         0.\n",
      "  0.66084629]]\n"
     ]
    }
   ],
   "source": [
    "print(randm.T)"
   ]
  },
  {
   "cell_type": "code",
   "execution_count": 45,
   "id": "95676202",
   "metadata": {},
   "outputs": [
    {
     "name": "stdout",
     "output_type": "stream",
     "text": [
      "[[ 2.02324065 -1.65866605 -1.13738216 -1.25006478 -0.19574328  0.0849815\n",
      "  -1.5292649   0.39543267]\n",
      " [ 2.21705621 -2.10161076 -0.5837446  -1.5578706   1.2720814   1.16565068\n",
      "   0.99794744  0.33944564]\n",
      " [ 0.10961323  0.92148642 -1.54648911  0.62879241 -0.6544285   0.29452233\n",
      "  -0.17015465 -0.60370154]\n",
      " [ 0.29475    -0.14917938  0.48341071  0.36037378 -0.6726023  -0.50791017\n",
      "  -0.19098711 -0.02519655]\n",
      " [-1.7811483  -0.02131472 -0.63283107  1.88484103 -1.08424032 -1.3684292\n",
      "  -0.8875774  -0.52707531]\n",
      " [ 0.66075003 -0.11888198  0.38835222  1.7153319  -0.96694041  1.68931936\n",
      "   0.37481276  0.88245962]\n",
      " [ 1.24612601  0.0532041   0.99959859 -1.34811605  0.81816384  1.01918799\n",
      "  -0.6273451  -0.46573328]]\n",
      "\n",
      "[[ 2.02324065 -1.65866605 -1.13738216 -1.25006478]\n",
      " [ 2.21705621 -2.10161076 -0.5837446  -1.5578706 ]\n",
      " [ 0.10961323  0.92148642 -1.54648911  0.62879241]\n",
      " [ 0.29475    -0.14917938  0.48341071  0.36037378]\n",
      " [-1.7811483  -0.02131472 -0.63283107  1.88484103]\n",
      " [ 0.66075003 -0.11888198  0.38835222  1.7153319 ]\n",
      " [ 1.24612601  0.0532041   0.99959859 -1.34811605]\n",
      " [-0.19574328  0.0849815  -1.5292649   0.39543267]\n",
      " [ 1.2720814   1.16565068  0.99794744  0.33944564]\n",
      " [-0.6544285   0.29452233 -0.17015465 -0.60370154]\n",
      " [-0.6726023  -0.50791017 -0.19098711 -0.02519655]\n",
      " [-1.08424032 -1.3684292  -0.8875774  -0.52707531]\n",
      " [-0.96694041  1.68931936  0.37481276  0.88245962]\n",
      " [ 0.81816384  1.01918799 -0.6273451  -0.46573328]]\n"
     ]
    }
   ],
   "source": [
    "arr_uno = np.random.randn(7, 4)\n",
    "arr_dos = np.random.randn(7, 4)\n",
    "arr_tres = np.hstack((arr_uno, arr_dos))\n",
    "arr_cuatro = np.vstack((arr_uno, arr_dos))\n",
    "\n",
    "print(arr_tres)\n",
    "print(\"\")\n",
    "print(arr_cuatro)"
   ]
  },
  {
   "cell_type": "code",
   "execution_count": 49,
   "id": "bf75c6a4",
   "metadata": {},
   "outputs": [
    {
     "ename": "TypeError",
     "evalue": "_split_dispatcher() missing 1 required positional argument: 'indices_or_sections'",
     "output_type": "error",
     "traceback": [
      "\u001b[1;31m---------------------------------------------------------------------------\u001b[0m",
      "\u001b[1;31mTypeError\u001b[0m                                 Traceback (most recent call last)",
      "Input \u001b[1;32mIn [49]\u001b[0m, in \u001b[0;36m<cell line: 4>\u001b[1;34m()\u001b[0m\n\u001b[0;32m      2\u001b[0m arr_hsplit \u001b[38;5;241m=\u001b[39m np\u001b[38;5;241m.\u001b[39mhsplit(rdm, \u001b[38;5;241m2\u001b[39m)\n\u001b[0;32m      3\u001b[0m arr_vsplit \u001b[38;5;241m=\u001b[39m np\u001b[38;5;241m.\u001b[39mvsplit(rdm, \u001b[38;5;241m2\u001b[39m)\n\u001b[1;32m----> 4\u001b[0m arr_split \u001b[38;5;241m=\u001b[39m \u001b[43mnp\u001b[49m\u001b[38;5;241;43m.\u001b[39;49m\u001b[43msplit\u001b[49m\u001b[43m(\u001b[49m\u001b[43mrdm\u001b[49m\u001b[43m)\u001b[49m\n\u001b[0;32m      6\u001b[0m \u001b[38;5;28mprint\u001b[39m(arr_hsplit)\n\u001b[0;32m      7\u001b[0m \u001b[38;5;28mprint\u001b[39m(\u001b[38;5;124m\"\u001b[39m\u001b[38;5;124m\"\u001b[39m)\n",
      "File \u001b[1;32m<__array_function__ internals>:4\u001b[0m, in \u001b[0;36msplit\u001b[1;34m(*args, **kwargs)\u001b[0m\n",
      "\u001b[1;31mTypeError\u001b[0m: _split_dispatcher() missing 1 required positional argument: 'indices_or_sections'"
     ]
    }
   ],
   "source": [
    "rdm = np.identity(6)\n",
    "arr_hsplit = np.hsplit(rdm, 2)\n",
    "arr_vsplit = np.vsplit(rdm, 2)\n",
    "arr_split = np.split(rdm[1, 3], axis = 1)\n",
    "\n",
    "print(arr_hsplit)\n",
    "print(\"\")\n",
    "print(arr_vsplit)\n",
    "print(\"\")\n",
    "print(arr_split)\n",
    "print(\"\")"
   ]
  },
  {
   "cell_type": "code",
   "execution_count": null,
   "id": "4e53b16f",
   "metadata": {},
   "outputs": [],
   "source": []
  }
 ],
 "metadata": {
  "kernelspec": {
   "display_name": "Python 3 (ipykernel)",
   "language": "python",
   "name": "python3"
  },
  "language_info": {
   "codemirror_mode": {
    "name": "ipython",
    "version": 3
   },
   "file_extension": ".py",
   "mimetype": "text/x-python",
   "name": "python",
   "nbconvert_exporter": "python",
   "pygments_lexer": "ipython3",
   "version": "3.9.12"
  }
 },
 "nbformat": 4,
 "nbformat_minor": 5
}
