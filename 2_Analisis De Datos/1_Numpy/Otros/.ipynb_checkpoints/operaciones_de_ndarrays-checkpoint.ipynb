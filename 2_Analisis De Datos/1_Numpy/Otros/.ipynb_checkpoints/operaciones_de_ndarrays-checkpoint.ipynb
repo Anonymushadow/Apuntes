{
 "cells": [
  {
   "cell_type": "code",
   "execution_count": 6,
   "id": "eeabb01b",
   "metadata": {},
   "outputs": [],
   "source": [
    "import numpy as np"
   ]
  },
  {
   "cell_type": "code",
   "execution_count": 7,
   "id": "cfed77ef",
   "metadata": {
    "scrolled": true
   },
   "outputs": [
    {
     "data": {
      "text/plain": [
       "array([ 99. ,   2. ,   3. ,   4. ,   5.2,   4. ,   6.5,   0.2,   4. ,\n",
       "         3. ,   0. ,   9. ,  90. ,   2. , 100. ])"
      ]
     },
     "execution_count": 7,
     "metadata": {},
     "output_type": "execute_result"
    }
   ],
   "source": [
    "#funciones unarias --> funciones que solo usan un array\n",
    "array = np.array([99, 2, 3, 4, 5.2, 4, 6.5, 0.2, -4, -3, 0, 9, 90, -2, -100])\n",
    "np.abs(array)"
   ]
  },
  {
   "cell_type": "code",
   "execution_count": 8,
   "id": "6b182fdb",
   "metadata": {},
   "outputs": [
    {
     "data": {
      "text/plain": [
       "array([ 1.,  1.,  1.,  1.,  1.,  1.,  1.,  1., -1., -1.,  0.,  1.,  1.,\n",
       "       -1., -1.])"
      ]
     },
     "execution_count": 8,
     "metadata": {},
     "output_type": "execute_result"
    }
   ],
   "source": [
    "#1 --> positivo\n",
    "#0 --> 0\n",
    "#-1 --> negativo\n",
    "np.sign(array)"
   ]
  },
  {
   "cell_type": "code",
   "execution_count": 9,
   "id": "e33d082e",
   "metadata": {},
   "outputs": [
    {
     "data": {
      "text/plain": [
       "array([9.94987437, 1.41421356, 1.73205081, 2.        , 2.28035085,\n",
       "       2.        , 2.54950976, 0.4472136 , 3.        , 9.48683298])"
      ]
     },
     "execution_count": 9,
     "metadata": {},
     "output_type": "execute_result"
    }
   ],
   "source": [
    "np.sqrt(array[array > 0])"
   ]
  },
  {
   "cell_type": "code",
   "execution_count": 10,
   "id": "65f1c500",
   "metadata": {},
   "outputs": [
    {
     "data": {
      "text/plain": [
       "array([9.88903032e+42, 7.38905610e+00, 2.00855369e+01, 5.45981500e+01,\n",
       "       1.81272242e+02, 5.45981500e+01, 6.65141633e+02, 1.22140276e+00,\n",
       "       1.83156389e-02, 4.97870684e-02, 1.00000000e+00, 8.10308393e+03,\n",
       "       1.22040329e+39, 1.35335283e-01, 3.72007598e-44])"
      ]
     },
     "execution_count": 10,
     "metadata": {},
     "output_type": "execute_result"
    }
   ],
   "source": [
    "np.exp(array)"
   ]
  },
  {
   "cell_type": "code",
   "execution_count": 11,
   "id": "20396b36",
   "metadata": {},
   "outputs": [
    {
     "data": {
      "text/plain": [
       "array([ 4.59511985,  0.69314718,  1.09861229,  1.38629436,  1.64865863,\n",
       "        1.38629436,  1.87180218, -1.60943791,  2.19722458,  4.49980967])"
      ]
     },
     "execution_count": 11,
     "metadata": {},
     "output_type": "execute_result"
    }
   ],
   "source": [
    "np.log(array[array > 0])"
   ]
  },
  {
   "cell_type": "code",
   "execution_count": 12,
   "id": "5df8d3cf",
   "metadata": {},
   "outputs": [
    {
     "data": {
      "text/plain": [
       "array([ 1.99563519,  0.30103   ,  0.47712125,  0.60205999,  0.71600334,\n",
       "        0.60205999,  0.81291336, -0.69897   ,  0.95424251,  1.95424251])"
      ]
     },
     "execution_count": 12,
     "metadata": {},
     "output_type": "execute_result"
    }
   ],
   "source": [
    "np.log10(array[array > 0])"
   ]
  },
  {
   "cell_type": "code",
   "execution_count": 13,
   "id": "cb6b1656",
   "metadata": {},
   "outputs": [
    {
     "data": {
      "text/plain": [
       "array([  99.,    2.,    3.,    4.,    6.,    4.,    7.,    1.,   -4.,\n",
       "         -3.,    0.,    9.,   90.,   -2., -100.])"
      ]
     },
     "execution_count": 13,
     "metadata": {},
     "output_type": "execute_result"
    }
   ],
   "source": [
    "np.ceil(array)"
   ]
  },
  {
   "cell_type": "code",
   "execution_count": 14,
   "id": "91364f01",
   "metadata": {},
   "outputs": [
    {
     "data": {
      "text/plain": [
       "array([  99.,    2.,    3.,    4.,    5.,    4.,    6.,    0.,   -4.,\n",
       "         -3.,    0.,    9.,   90.,   -2., -100.])"
      ]
     },
     "execution_count": 14,
     "metadata": {},
     "output_type": "execute_result"
    }
   ],
   "source": [
    "np.floor(array)"
   ]
  },
  {
   "cell_type": "code",
   "execution_count": 15,
   "id": "e231cc08",
   "metadata": {},
   "outputs": [
    {
     "data": {
      "text/plain": [
       "array([  99.,    2.,    3.,    4.,    5.,    4.,    6.,    0.,   -4.,\n",
       "         -3.,    0.,    9.,   90.,   -2., -100.])"
      ]
     },
     "execution_count": 15,
     "metadata": {},
     "output_type": "execute_result"
    }
   ],
   "source": [
    "np.rint(array)"
   ]
  },
  {
   "cell_type": "code",
   "execution_count": 16,
   "id": "b7951552",
   "metadata": {},
   "outputs": [
    {
     "data": {
      "text/plain": [
       "(array([ 0. ,  0. ,  0. ,  0. ,  0.2,  0. ,  0.5,  0.2, -0. , -0. ,  0. ,\n",
       "         0. ,  0. , -0. , -0. ]),\n",
       " array([  99.,    2.,    3.,    4.,    5.,    4.,    6.,    0.,   -4.,\n",
       "          -3.,    0.,    9.,   90.,   -2., -100.]))"
      ]
     },
     "execution_count": 16,
     "metadata": {},
     "output_type": "execute_result"
    }
   ],
   "source": [
    "np.modf(array)"
   ]
  },
  {
   "cell_type": "code",
   "execution_count": 17,
   "id": "13564646",
   "metadata": {},
   "outputs": [
    {
     "data": {
      "text/plain": [
       "array([False, False, False, False, False, False, False, False, False,\n",
       "       False, False, False, False, False, False])"
      ]
     },
     "execution_count": 17,
     "metadata": {},
     "output_type": "execute_result"
    }
   ],
   "source": [
    "np.isnan(array)"
   ]
  },
  {
   "cell_type": "code",
   "execution_count": 18,
   "id": "27e072bc",
   "metadata": {},
   "outputs": [
    {
     "data": {
      "text/plain": [
       "array([ True,  True,  True,  True,  True,  True,  True,  True,  True,\n",
       "        True,  True,  True,  True,  True,  True])"
      ]
     },
     "execution_count": 18,
     "metadata": {},
     "output_type": "execute_result"
    }
   ],
   "source": [
    "np.isfinite(array)"
   ]
  },
  {
   "cell_type": "code",
   "execution_count": 19,
   "id": "b67bea28",
   "metadata": {},
   "outputs": [
    {
     "data": {
      "text/plain": [
       "array([ 0.03982088, -0.41614684, -0.9899925 , -0.65364362,  0.46851667,\n",
       "       -0.65364362,  0.97658763,  0.98006658, -0.65364362, -0.9899925 ,\n",
       "        1.        , -0.91113026, -0.44807362, -0.41614684,  0.86231887])"
      ]
     },
     "execution_count": 19,
     "metadata": {},
     "output_type": "execute_result"
    }
   ],
   "source": [
    "np.cos(array)"
   ]
  },
  {
   "cell_type": "code",
   "execution_count": 20,
   "id": "44b309ca",
   "metadata": {},
   "outputs": [
    {
     "data": {
      "text/plain": [
       "array([-0.99920683,  0.90929743,  0.14112001, -0.7568025 , -0.88345466,\n",
       "       -0.7568025 ,  0.21511999,  0.19866933,  0.7568025 , -0.14112001,\n",
       "        0.        ,  0.41211849,  0.89399666, -0.90929743,  0.50636564])"
      ]
     },
     "execution_count": 20,
     "metadata": {},
     "output_type": "execute_result"
    }
   ],
   "source": [
    "np.sin(array)"
   ]
  },
  {
   "cell_type": "code",
   "execution_count": 21,
   "id": "88f34a78",
   "metadata": {},
   "outputs": [
    {
     "data": {
      "text/plain": [
       "array([-25.09253498,  -2.18503986,  -0.14254654,   1.15782128,\n",
       "        -1.88564188,   1.15782128,   0.2202772 ,   0.20271004,\n",
       "        -1.15782128,   0.14254654,   0.        ,  -0.45231566,\n",
       "        -1.99520041,   2.18503986,   0.58721392])"
      ]
     },
     "execution_count": 21,
     "metadata": {},
     "output_type": "execute_result"
    }
   ],
   "source": [
    "np.tan(array)"
   ]
  },
  {
   "cell_type": "code",
   "execution_count": 22,
   "id": "a158fb4a",
   "metadata": {},
   "outputs": [
    {
     "data": {
      "text/plain": [
       "array([4.94451516e+42, 3.76219569e+00, 1.00676620e+01, 2.73082328e+01,\n",
       "       9.06388792e+01, 2.73082328e+01, 3.32571568e+02, 1.02006676e+00,\n",
       "       2.73082328e+01, 1.00676620e+01, 1.00000000e+00, 4.05154203e+03,\n",
       "       6.10201647e+38, 3.76219569e+00, 1.34405857e+43])"
      ]
     },
     "execution_count": 22,
     "metadata": {},
     "output_type": "execute_result"
    }
   ],
   "source": [
    "np.cosh(array)"
   ]
  },
  {
   "cell_type": "code",
   "execution_count": 28,
   "id": "cd3387f5",
   "metadata": {},
   "outputs": [
    {
     "data": {
      "text/plain": [
       "array([ 4.94451516e+42,  3.62686041e+00,  1.00178749e+01,  2.72899172e+01,\n",
       "        9.06333627e+01,  2.72899172e+01,  3.32570065e+02,  2.01336003e-01,\n",
       "       -2.72899172e+01, -1.00178749e+01,  0.00000000e+00,  4.05154190e+03,\n",
       "        6.10201647e+38, -3.62686041e+00, -1.34405857e+43])"
      ]
     },
     "execution_count": 28,
     "metadata": {},
     "output_type": "execute_result"
    }
   ],
   "source": [
    "np.sinh(array)"
   ]
  },
  {
   "cell_type": "code",
   "execution_count": 24,
   "id": "90531941",
   "metadata": {},
   "outputs": [
    {
     "data": {
      "text/plain": [
       "array([ 1.        ,  0.96402758,  0.99505475,  0.9993293 ,  0.99993914,\n",
       "        0.9993293 ,  0.99999548,  0.19737532, -0.9993293 , -0.99505475,\n",
       "        0.        ,  0.99999997,  1.        , -0.96402758, -1.        ])"
      ]
     },
     "execution_count": 24,
     "metadata": {},
     "output_type": "execute_result"
    }
   ],
   "source": [
    "np.tanh(array)"
   ]
  },
  {
   "cell_type": "code",
   "execution_count": 25,
   "id": "c37cf5d5",
   "metadata": {},
   "outputs": [
    {
     "data": {
      "text/plain": [
       "array([False, False, False, False, False, False, False, False, False,\n",
       "       False,  True, False, False, False, False])"
      ]
     },
     "execution_count": 25,
     "metadata": {},
     "output_type": "execute_result"
    }
   ],
   "source": [
    "np.logical_not(array)"
   ]
  },
  {
   "cell_type": "code",
   "execution_count": 29,
   "id": "e74b4a1b",
   "metadata": {},
   "outputs": [
    {
     "name": "stdout",
     "output_type": "stream",
     "text": [
      "[  99.     2.     3.     4.     5.2    4.     6.5    0.2   -4.    -3.\n",
      "    0.     9.    90.    -2.  -100. ]\n"
     ]
    }
   ],
   "source": [
    "print(array)"
   ]
  },
  {
   "cell_type": "code",
   "execution_count": 32,
   "id": "5b8f8241",
   "metadata": {},
   "outputs": [
    {
     "name": "stdout",
     "output_type": "stream",
     "text": [
      "[[ 0.22244369  0.008619   -0.67562004  1.86027338 -1.18117932]\n",
      " [ 0.600281    0.41918512  1.38285332  0.76305276  0.36648028]\n",
      " [-0.9827143  -0.61980346  1.00161748 -0.01903216 -0.09701245]\n",
      " [ 1.4332639  -0.33465357 -0.50877361 -0.83969617  1.6192077 ]\n",
      " [-0.95601511 -0.06510894 -0.87745042 -1.75547854  0.70302477]]\n",
      "\n",
      "[[ 0.32062893 -0.12212898  1.25979356  1.1154338  -1.36969707]\n",
      " [ 1.89458199  0.64736749  0.5191835   0.09852693 -1.65395758]\n",
      " [-0.17363591  1.69513231  0.77548271 -1.08516871 -1.33590559]\n",
      " [ 1.06503235  1.42894774 -0.0899873  -0.66297044 -0.11834897]\n",
      " [-0.30123318 -0.23137094  0.22933975  0.6943442  -0.70904664]]\n"
     ]
    }
   ],
   "source": [
    "array_uno = np.random.randn(5, 5) \n",
    "array_dos = np.random.randn(5, 5)\n",
    "print(array_uno)\n",
    "print(\"\")\n",
    "print(array_dos)"
   ]
  },
  {
   "cell_type": "code",
   "execution_count": 33,
   "id": "6bad0c5b",
   "metadata": {},
   "outputs": [
    {
     "data": {
      "text/plain": [
       "array([[ 0.54307262, -0.11350998,  0.58417352,  2.97570717, -2.55087639],\n",
       "       [ 2.49486299,  1.06655261,  1.90203683,  0.86157969, -1.2874773 ],\n",
       "       [-1.15635021,  1.07532886,  1.7771002 , -1.10420087, -1.43291804],\n",
       "       [ 2.49829625,  1.09429417, -0.5987609 , -1.50266661,  1.50085874],\n",
       "       [-1.25724829, -0.29647988, -0.64811067, -1.06113434, -0.00602187]])"
      ]
     },
     "execution_count": 33,
     "metadata": {},
     "output_type": "execute_result"
    }
   ],
   "source": [
    "np.add(array_uno, array_dos)"
   ]
  },
  {
   "cell_type": "code",
   "execution_count": 35,
   "id": "aab301a6",
   "metadata": {},
   "outputs": [
    {
     "data": {
      "text/plain": [
       "array([[-0.09818524,  0.13074798, -1.93541359,  0.74483958,  0.18851775],\n",
       "       [-1.29430099, -0.22818237,  0.86366982,  0.66452582,  2.02043786],\n",
       "       [-0.80907839, -2.31493577,  0.22613477,  1.06613655,  1.23889315],\n",
       "       [ 0.36823155, -1.76360131, -0.41878631, -0.17672574,  1.73755667],\n",
       "       [-0.65478193,  0.166262  , -1.10679017, -2.44982274,  1.4120714 ]])"
      ]
     },
     "execution_count": 35,
     "metadata": {},
     "output_type": "execute_result"
    }
   ],
   "source": [
    "np.subtract(array_uno, array_dos)"
   ]
  },
  {
   "cell_type": "code",
   "execution_count": 36,
   "id": "9d2e5e7c",
   "metadata": {},
   "outputs": [
    {
     "data": {
      "text/plain": [
       "array([[ 7.13218834e-02, -1.05262943e-03, -8.51141768e-01,\n",
       "         2.07501179e+00,  1.61785785e+00],\n",
       "       [ 1.13728158e+00,  2.71366820e-01,  7.17954633e-01,\n",
       "         7.51812487e-02, -6.06142837e-01],\n",
       "       [ 1.70634493e-01, -1.05064887e+00,  7.76737044e-01,\n",
       "         2.06531054e-02,  1.29599468e-01],\n",
       "       [ 1.52647242e+00, -4.78202465e-01,  4.57831607e-02,\n",
       "         5.56693738e-01, -1.91631556e-01],\n",
       "       [ 2.87983476e-01,  1.50643172e-02, -2.01234260e-01,\n",
       "        -1.21890635e+00, -4.98477346e-01]])"
      ]
     },
     "execution_count": 36,
     "metadata": {},
     "output_type": "execute_result"
    }
   ],
   "source": [
    "np.multiply(array_uno, array_dos)"
   ]
  },
  {
   "cell_type": "code",
   "execution_count": 37,
   "id": "77c3c011",
   "metadata": {},
   "outputs": [
    {
     "data": {
      "text/plain": [
       "array([[  0.69377299,  -0.07057291,  -0.53629424,   1.66775777,\n",
       "          0.86236537],\n",
       "       [  0.31684087,   0.64752266,   2.66351553,   7.7446108 ,\n",
       "         -0.2215778 ],\n",
       "       [  5.65962588,  -0.36563721,   1.29160517,   0.01753843,\n",
       "          0.07261924],\n",
       "       [  1.34574682,  -0.23419581,   5.65383818,   1.26656655,\n",
       "        -13.68163804],\n",
       "       [  3.17367129,   0.28140502,  -3.82598492,  -2.52825405,\n",
       "         -0.99150709]])"
      ]
     },
     "execution_count": 37,
     "metadata": {},
     "output_type": "execute_result"
    }
   ],
   "source": [
    "np.divide(array_uno, array_dos)"
   ]
  },
  {
   "cell_type": "code",
   "execution_count": 38,
   "id": "ea9477c9",
   "metadata": {},
   "outputs": [
    {
     "data": {
      "text/plain": [
       "array([[  0.,  -1.,  -1.,   1.,   0.],\n",
       "       [  0.,   0.,   2.,   7.,  -1.],\n",
       "       [  5.,  -1.,   1.,   0.,   0.],\n",
       "       [  1.,  -1.,   5.,   1., -14.],\n",
       "       [  3.,   0.,  -4.,  -3.,  -1.]])"
      ]
     },
     "execution_count": 38,
     "metadata": {},
     "output_type": "execute_result"
    }
   ],
   "source": [
    "np.floor_divide(array_uno, array_dos)"
   ]
  },
  {
   "cell_type": "code",
   "execution_count": 42,
   "id": "afb3e82d",
   "metadata": {},
   "outputs": [
    {
     "name": "stderr",
     "output_type": "stream",
     "text": [
      "C:\\Users\\Ceci\\AppData\\Local\\Temp\\ipykernel_13920\\1690775418.py:1: RuntimeWarning: invalid value encountered in power\n",
      "  np.power(array_uno, array_dos)\n"
     ]
    },
    {
     "data": {
      "text/plain": [
       "array([[0.61758946, 1.78706588,        nan, 1.99845807,        nan],\n",
       "       [0.38025472, 0.56958406, 1.18328304, 0.97370738, 5.26067894],\n",
       "       [       nan,        nan, 1.0012541 ,        nan,        nan],\n",
       "       [1.46721048,        nan,        nan,        nan, 0.94455937],\n",
       "       [       nan,        nan,        nan,        nan, 1.28382244]])"
      ]
     },
     "execution_count": 42,
     "metadata": {},
     "output_type": "execute_result"
    }
   ],
   "source": [
    "#error xque se eleva un numero al 0\n",
    "np.power(array_uno, array_dos)"
   ]
  },
  {
   "cell_type": "code",
   "execution_count": 43,
   "id": "a34d2d35",
   "metadata": {},
   "outputs": [
    {
     "data": {
      "text/plain": [
       "array([[ 0.32062893,  0.008619  ,  1.25979356,  1.86027338, -1.18117932],\n",
       "       [ 1.89458199,  0.64736749,  1.38285332,  0.76305276,  0.36648028],\n",
       "       [-0.17363591,  1.69513231,  1.00161748, -0.01903216, -0.09701245],\n",
       "       [ 1.4332639 ,  1.42894774, -0.0899873 , -0.66297044,  1.6192077 ],\n",
       "       [-0.30123318, -0.06510894,  0.22933975,  0.6943442 ,  0.70302477]])"
      ]
     },
     "execution_count": 43,
     "metadata": {},
     "output_type": "execute_result"
    }
   ],
   "source": [
    "np.fmax(array_uno, array_dos)"
   ]
  },
  {
   "cell_type": "code",
   "execution_count": 44,
   "id": "7e99eeac",
   "metadata": {},
   "outputs": [
    {
     "data": {
      "text/plain": [
       "array([[ 0.22244369, -0.12212898, -0.67562004,  1.1154338 , -1.36969707],\n",
       "       [ 0.600281  ,  0.41918512,  0.5191835 ,  0.09852693, -1.65395758],\n",
       "       [-0.9827143 , -0.61980346,  0.77548271, -1.08516871, -1.33590559],\n",
       "       [ 1.06503235, -0.33465357, -0.50877361, -0.83969617, -0.11834897],\n",
       "       [-0.95601511, -0.23137094, -0.87745042, -1.75547854, -0.70904664]])"
      ]
     },
     "execution_count": 44,
     "metadata": {},
     "output_type": "execute_result"
    }
   ],
   "source": [
    "np.fmin(array_uno, array_dos)"
   ]
  },
  {
   "cell_type": "code",
   "execution_count": 45,
   "id": "d0aa85ad",
   "metadata": {},
   "outputs": [
    {
     "data": {
      "text/plain": [
       "array([[ 0.22244369, -0.11350998,  0.58417352,  0.74483958, -1.18117932],\n",
       "       [ 0.600281  ,  0.41918512,  0.34448632,  0.07336422, -1.2874773 ],\n",
       "       [-0.11453474,  1.07532886,  0.22613477, -0.01903216, -0.09701245],\n",
       "       [ 0.36823155,  1.09429417, -0.05883713, -0.17672574, -0.03767781],\n",
       "       [-0.05231556, -0.06510894,  0.03990857,  0.32755406, -0.00602187]])"
      ]
     },
     "execution_count": 45,
     "metadata": {},
     "output_type": "execute_result"
    }
   ],
   "source": [
    "np.mod(array_uno, array_dos)"
   ]
  },
  {
   "cell_type": "code",
   "execution_count": 46,
   "id": "452648fb",
   "metadata": {},
   "outputs": [
    {
     "data": {
      "text/plain": [
       "array([[False,  True, False,  True,  True],\n",
       "       [False, False,  True,  True,  True],\n",
       "       [False, False,  True,  True,  True],\n",
       "       [ True, False, False, False,  True],\n",
       "       [False,  True, False, False,  True]])"
      ]
     },
     "execution_count": 46,
     "metadata": {},
     "output_type": "execute_result"
    }
   ],
   "source": [
    "np.greater(array_uno, array_dos)"
   ]
  },
  {
   "cell_type": "code",
   "execution_count": 48,
   "id": "36d0a16f",
   "metadata": {},
   "outputs": [
    {
     "data": {
      "text/plain": [
       "array([[False,  True, False,  True,  True],\n",
       "       [False, False,  True,  True,  True],\n",
       "       [False, False,  True,  True,  True],\n",
       "       [ True, False, False, False,  True],\n",
       "       [False,  True, False, False,  True]])"
      ]
     },
     "execution_count": 48,
     "metadata": {},
     "output_type": "execute_result"
    }
   ],
   "source": [
    "np.greater_equal(array_uno, array_dos)"
   ]
  },
  {
   "cell_type": "code",
   "execution_count": 49,
   "id": "0c7403b0",
   "metadata": {},
   "outputs": [
    {
     "data": {
      "text/plain": [
       "array([[ True, False,  True, False, False],\n",
       "       [ True,  True, False, False, False],\n",
       "       [ True,  True, False, False, False],\n",
       "       [False,  True,  True,  True, False],\n",
       "       [ True, False,  True,  True, False]])"
      ]
     },
     "execution_count": 49,
     "metadata": {},
     "output_type": "execute_result"
    }
   ],
   "source": [
    "np.less(array_uno, array_dos)"
   ]
  },
  {
   "cell_type": "code",
   "execution_count": 50,
   "id": "a3650a73",
   "metadata": {},
   "outputs": [
    {
     "data": {
      "text/plain": [
       "array([[ True, False,  True, False, False],\n",
       "       [ True,  True, False, False, False],\n",
       "       [ True,  True, False, False, False],\n",
       "       [False,  True,  True,  True, False],\n",
       "       [ True, False,  True,  True, False]])"
      ]
     },
     "execution_count": 50,
     "metadata": {},
     "output_type": "execute_result"
    }
   ],
   "source": [
    "np.less_equal(array_uno, array_dos)"
   ]
  },
  {
   "cell_type": "code",
   "execution_count": 51,
   "id": "ab5e60da",
   "metadata": {},
   "outputs": [
    {
     "data": {
      "text/plain": [
       "array([[False, False, False, False, False],\n",
       "       [False, False, False, False, False],\n",
       "       [False, False, False, False, False],\n",
       "       [False, False, False, False, False],\n",
       "       [False, False, False, False, False]])"
      ]
     },
     "execution_count": 51,
     "metadata": {},
     "output_type": "execute_result"
    }
   ],
   "source": [
    "np.equal(array_uno, array_dos)"
   ]
  },
  {
   "cell_type": "code",
   "execution_count": 52,
   "id": "439d9264",
   "metadata": {},
   "outputs": [
    {
     "data": {
      "text/plain": [
       "array([[ True,  True,  True,  True,  True],\n",
       "       [ True,  True,  True,  True,  True],\n",
       "       [ True,  True,  True,  True,  True],\n",
       "       [ True,  True,  True,  True,  True],\n",
       "       [ True,  True,  True,  True,  True]])"
      ]
     },
     "execution_count": 52,
     "metadata": {},
     "output_type": "execute_result"
    }
   ],
   "source": [
    "np.not_equal(array_uno, array_dos)"
   ]
  },
  {
   "cell_type": "code",
   "execution_count": 54,
   "id": "63ac34e8",
   "metadata": {},
   "outputs": [
    {
     "data": {
      "text/plain": [
       "array([[ True,  True,  True,  True,  True],\n",
       "       [ True,  True,  True,  True,  True],\n",
       "       [ True,  True,  True,  True,  True],\n",
       "       [ True,  True,  True,  True,  True],\n",
       "       [ True,  True,  True,  True,  True]])"
      ]
     },
     "execution_count": 54,
     "metadata": {},
     "output_type": "execute_result"
    }
   ],
   "source": [
    "np.logical_or(array_uno, array_dos)"
   ]
  },
  {
   "cell_type": "code",
   "execution_count": 53,
   "id": "3e5a6fd9",
   "metadata": {},
   "outputs": [
    {
     "data": {
      "text/plain": [
       "array([[ True,  True,  True,  True,  True],\n",
       "       [ True,  True,  True,  True,  True],\n",
       "       [ True,  True,  True,  True,  True],\n",
       "       [ True,  True,  True,  True,  True],\n",
       "       [ True,  True,  True,  True,  True]])"
      ]
     },
     "execution_count": 53,
     "metadata": {},
     "output_type": "execute_result"
    }
   ],
   "source": [
    "np.logical_and(array_uno, array_dos)"
   ]
  },
  {
   "cell_type": "code",
   "execution_count": 55,
   "id": "278ffc5c",
   "metadata": {},
   "outputs": [
    {
     "data": {
      "text/plain": [
       "array([[ 0.32062893,  0.008619  ,  1.25979356,  1.86027338, -1.18117932],\n",
       "       [ 1.89458199,  0.64736749,  1.38285332,  0.76305276,  0.36648028],\n",
       "       [-0.17363591,  1.69513231,  1.00161748, -0.01903216, -0.09701245],\n",
       "       [ 1.4332639 ,  1.42894774, -0.0899873 , -0.66297044,  1.6192077 ],\n",
       "       [-0.30123318, -0.06510894,  0.22933975,  0.6943442 ,  0.70302477]])"
      ]
     },
     "execution_count": 55,
     "metadata": {},
     "output_type": "execute_result"
    }
   ],
   "source": [
    "#donde array_uno sea mayor a array_dos devolver array_uno, donde no, devolver array_dos\n",
    "np.where(array_uno > array_dos, array_uno, array_dos)"
   ]
  },
  {
   "cell_type": "code",
   "execution_count": 57,
   "id": "90cd42ac",
   "metadata": {},
   "outputs": [
    {
     "data": {
      "text/plain": [
       "array([[ 0.22244369, -0.12212898,  0.        ,  1.1154338 , -1.36969707],\n",
       "       [ 0.600281  ,  0.41918512,  0.5191835 ,  0.09852693, -1.65395758],\n",
       "       [ 0.        ,  0.        ,  0.77548271, -1.08516871, -1.33590559],\n",
       "       [ 1.06503235,  0.        ,  0.        ,  0.        , -0.11834897],\n",
       "       [ 0.        , -0.23137094,  0.        ,  0.        , -0.70904664]])"
      ]
     },
     "execution_count": 57,
     "metadata": {},
     "output_type": "execute_result"
    }
   ],
   "source": [
    "#donde array_uno sea mayor a array_dos devolver array_dos, donde no, \n",
    "#verificar si array_uno es mayor a 0, de ser asi, devolver array_uno, de lo contrario devolver 0\n",
    "np.where(array_uno < array_dos, np.where(array_uno < 0, 0, array_uno), array_dos)"
   ]
  },
  {
   "cell_type": "code",
   "execution_count": 60,
   "id": "c0363255",
   "metadata": {},
   "outputs": [
    {
     "data": {
      "text/plain": [
       "1.4677643160696316"
      ]
     },
     "execution_count": 60,
     "metadata": {},
     "output_type": "execute_result"
    }
   ],
   "source": [
    "#sumar todo\n",
    "np.sum(array_uno)"
   ]
  },
  {
   "cell_type": "code",
   "execution_count": 61,
   "id": "b94131b4",
   "metadata": {},
   "outputs": [
    {
     "data": {
      "text/plain": [
       "array([ 0.31725918, -0.59176186,  0.32262674,  0.00911926,  1.41052099])"
      ]
     },
     "execution_count": 61,
     "metadata": {},
     "output_type": "execute_result"
    }
   ],
   "source": [
    "#sumar por columnas\n",
    "np.sum(array_uno, axis = 0)"
   ]
  },
  {
   "cell_type": "code",
   "execution_count": 62,
   "id": "b7557463",
   "metadata": {},
   "outputs": [
    {
     "data": {
      "text/plain": [
       "array([ 0.23453671,  3.53185248, -0.71694488,  1.36934825, -2.95102825])"
      ]
     },
     "execution_count": 62,
     "metadata": {},
     "output_type": "execute_result"
    }
   ],
   "source": [
    "#sumar por filas\n",
    "np.sum(array_uno, axis = 1)"
   ]
  },
  {
   "cell_type": "code",
   "execution_count": 63,
   "id": "44c464cb",
   "metadata": {},
   "outputs": [
    {
     "data": {
      "text/plain": [
       "113.9"
      ]
     },
     "execution_count": 63,
     "metadata": {},
     "output_type": "execute_result"
    }
   ],
   "source": [
    "array.sum()"
   ]
  },
  {
   "cell_type": "code",
   "execution_count": 64,
   "id": "4d902954",
   "metadata": {},
   "outputs": [
    {
     "data": {
      "text/plain": [
       "0.058710572642785265"
      ]
     },
     "execution_count": 64,
     "metadata": {},
     "output_type": "execute_result"
    }
   ],
   "source": [
    "np.mean(array_uno)"
   ]
  },
  {
   "cell_type": "code",
   "execution_count": 65,
   "id": "f7a023aa",
   "metadata": {},
   "outputs": [
    {
     "data": {
      "text/plain": [
       "-0.019032160824403534"
      ]
     },
     "execution_count": 65,
     "metadata": {},
     "output_type": "execute_result"
    }
   ],
   "source": [
    "np.median(array_uno)"
   ]
  },
  {
   "cell_type": "code",
   "execution_count": 66,
   "id": "c1adfe23",
   "metadata": {},
   "outputs": [
    {
     "data": {
      "text/plain": [
       "0.9342273716654129"
      ]
     },
     "execution_count": 66,
     "metadata": {},
     "output_type": "execute_result"
    }
   ],
   "source": [
    "np.std(array_uno)"
   ]
  },
  {
   "cell_type": "code",
   "execution_count": 67,
   "id": "e705c5f3",
   "metadata": {},
   "outputs": [
    {
     "data": {
      "text/plain": [
       "0.8727807819688657"
      ]
     },
     "execution_count": 67,
     "metadata": {},
     "output_type": "execute_result"
    }
   ],
   "source": [
    "np.var(array_uno)"
   ]
  },
  {
   "cell_type": "code",
   "execution_count": 68,
   "id": "7cd35679",
   "metadata": {},
   "outputs": [
    {
     "data": {
      "text/plain": [
       "-1.755478542243986"
      ]
     },
     "execution_count": 68,
     "metadata": {},
     "output_type": "execute_result"
    }
   ],
   "source": [
    "np.min(array_uno)"
   ]
  },
  {
   "cell_type": "code",
   "execution_count": 69,
   "id": "282852ae",
   "metadata": {},
   "outputs": [
    {
     "data": {
      "text/plain": [
       "1.8602733754243113"
      ]
     },
     "execution_count": 69,
     "metadata": {},
     "output_type": "execute_result"
    }
   ],
   "source": [
    "np.max(array_uno)"
   ]
  },
  {
   "cell_type": "code",
   "execution_count": 70,
   "id": "ca667289",
   "metadata": {},
   "outputs": [
    {
     "data": {
      "text/plain": [
       "23"
      ]
     },
     "execution_count": 70,
     "metadata": {},
     "output_type": "execute_result"
    }
   ],
   "source": [
    "np.argmin(array_uno)"
   ]
  },
  {
   "cell_type": "code",
   "execution_count": 72,
   "id": "0532aa81",
   "metadata": {},
   "outputs": [
    {
     "data": {
      "text/plain": [
       "3"
      ]
     },
     "execution_count": 72,
     "metadata": {},
     "output_type": "execute_result"
    }
   ],
   "source": [
    "np.argmax(array_uno)"
   ]
  },
  {
   "cell_type": "code",
   "execution_count": 73,
   "id": "069a5c3c",
   "metadata": {},
   "outputs": [
    {
     "data": {
      "text/plain": [
       "array([ 0.22244369,  0.23106269, -0.44455734,  1.41571603,  0.23453671,\n",
       "        0.83481772,  1.25400284,  2.63685616,  3.39990892,  3.7663892 ,\n",
       "        2.7836749 ,  2.16387144,  3.16548892,  3.14645676,  3.04944432,\n",
       "        4.48270822,  4.14805464,  3.63928104,  2.79958486,  4.41879257,\n",
       "        3.46277746,  3.39766851,  2.52021809,  0.76473955,  1.46776432])"
      ]
     },
     "execution_count": 73,
     "metadata": {},
     "output_type": "execute_result"
    }
   ],
   "source": [
    "np.cumsum(array_uno)"
   ]
  },
  {
   "cell_type": "code",
   "execution_count": 74,
   "id": "1da8ea82",
   "metadata": {},
   "outputs": [
    {
     "data": {
      "text/plain": [
       "array([ 2.22443692e-01,  1.91724169e-03, -1.29532690e-03, -2.40966214e-03,\n",
       "        2.84624309e-03,  1.70854566e-03,  7.16196914e-04,  9.90395283e-04,\n",
       "        7.55723851e-04,  2.76957889e-04, -2.72170478e-04,  1.68692203e-04,\n",
       "        1.68965060e-04, -3.21577020e-06,  3.11969731e-07,  4.47134953e-07,\n",
       "       -1.49635309e-07,  7.61304959e-08, -6.39264861e-08, -1.03510259e-07,\n",
       "        9.89573715e-08, -6.44300984e-09,  5.65342171e-09, -9.92446051e-09,\n",
       "       -6.97714153e-09])"
      ]
     },
     "execution_count": 74,
     "metadata": {},
     "output_type": "execute_result"
    }
   ],
   "source": [
    "np.cumprod(array_uno)"
   ]
  },
  {
   "cell_type": "code",
   "execution_count": 84,
   "id": "b78a2809",
   "metadata": {},
   "outputs": [
    {
     "name": "stdout",
     "output_type": "stream",
     "text": [
      "[[-2.11269263  1.35348041  0.4053438 ]\n",
      " [ 1.08077455 -0.37987067 -0.84738433]\n",
      " [-0.47748149 -0.55963558  0.44082019]]\n"
     ]
    }
   ],
   "source": [
    "array = np.random.randn(3, 3) \n",
    "print(array)"
   ]
  },
  {
   "cell_type": "code",
   "execution_count": 85,
   "id": "855279d3",
   "metadata": {},
   "outputs": [
    {
     "data": {
      "text/plain": [
       "4"
      ]
     },
     "execution_count": 85,
     "metadata": {},
     "output_type": "execute_result"
    }
   ],
   "source": [
    "#cantidad de elementos mayores a 0\n",
    "(array > 0).sum()\n",
    "#si array[x] es mayor a 0 devuelve True(1), de lo contrario devuelve False(0) y despues suma cada uno "
   ]
  },
  {
   "cell_type": "code",
   "execution_count": null,
   "id": "d201b551",
   "metadata": {},
   "outputs": [],
   "source": [
    "#cantidad de elementos menores que la media\n",
    "(array < array.mean()).sum()"
   ]
  },
  {
   "cell_type": "code",
   "execution_count": 88,
   "id": "7c1b20e2",
   "metadata": {},
   "outputs": [
    {
     "data": {
      "text/plain": [
       "True"
      ]
     },
     "execution_count": 88,
     "metadata": {},
     "output_type": "execute_result"
    }
   ],
   "source": [
    "(array > 0).any()"
   ]
  },
  {
   "cell_type": "code",
   "execution_count": 89,
   "id": "3c633cf8",
   "metadata": {},
   "outputs": [
    {
     "data": {
      "text/plain": [
       "False"
      ]
     },
     "execution_count": 89,
     "metadata": {},
     "output_type": "execute_result"
    }
   ],
   "source": [
    "(array > 0).all()"
   ]
  },
  {
   "cell_type": "code",
   "execution_count": 90,
   "id": "25adcef4",
   "metadata": {},
   "outputs": [
    {
     "data": {
      "text/plain": [
       "array([[-2.11269263, -0.55963558, -0.84738433],\n",
       "       [-0.47748149, -0.37987067,  0.4053438 ],\n",
       "       [ 1.08077455,  1.35348041,  0.44082019]])"
      ]
     },
     "execution_count": 90,
     "metadata": {},
     "output_type": "execute_result"
    }
   ],
   "source": [
    "#ordenas por columnas\n",
    "np.sort(array, axis = 0)"
   ]
  },
  {
   "cell_type": "code",
   "execution_count": 91,
   "id": "df0dbecb",
   "metadata": {},
   "outputs": [
    {
     "data": {
      "text/plain": [
       "array([[-2.11269263,  0.4053438 ,  1.35348041],\n",
       "       [-0.84738433, -0.37987067,  1.08077455],\n",
       "       [-0.55963558, -0.47748149,  0.44082019]])"
      ]
     },
     "execution_count": 91,
     "metadata": {},
     "output_type": "execute_result"
    }
   ],
   "source": [
    "#ordenar por columnas\n",
    "np.sort(array, axis = 1)"
   ]
  },
  {
   "cell_type": "code",
   "execution_count": 92,
   "id": "982404ba",
   "metadata": {},
   "outputs": [
    {
     "data": {
      "text/plain": [
       "array([-2.11269263, -0.84738433, -0.55963558, -0.47748149, -0.37987067,\n",
       "        0.4053438 ,  0.44082019,  1.08077455,  1.35348041])"
      ]
     },
     "execution_count": 92,
     "metadata": {},
     "output_type": "execute_result"
    }
   ],
   "source": [
    "np.unique(array)"
   ]
  },
  {
   "cell_type": "code",
   "execution_count": 93,
   "id": "40c0d376",
   "metadata": {},
   "outputs": [],
   "source": [
    "arr = [0, 1, 2, 3, 4, 5]\n",
    "arr_2 = [10, 9, 8, 7, 6, 5]"
   ]
  },
  {
   "cell_type": "code",
   "execution_count": 95,
   "id": "a91a16c3",
   "metadata": {},
   "outputs": [
    {
     "data": {
      "text/plain": [
       "array([5])"
      ]
     },
     "execution_count": 95,
     "metadata": {},
     "output_type": "execute_result"
    }
   ],
   "source": [
    "np.intersect1d(arr, arr_2)"
   ]
  },
  {
   "cell_type": "code",
   "execution_count": 97,
   "id": "e2930fde",
   "metadata": {},
   "outputs": [
    {
     "data": {
      "text/plain": [
       "array([ 0,  1,  2,  3,  4,  5,  6,  7,  8,  9, 10])"
      ]
     },
     "execution_count": 97,
     "metadata": {},
     "output_type": "execute_result"
    }
   ],
   "source": [
    "np.union1d(arr, arr_2)"
   ]
  },
  {
   "cell_type": "code",
   "execution_count": 98,
   "id": "a92bea04",
   "metadata": {},
   "outputs": [
    {
     "data": {
      "text/plain": [
       "array([False, False, False, False, False,  True])"
      ]
     },
     "execution_count": 98,
     "metadata": {},
     "output_type": "execute_result"
    }
   ],
   "source": [
    "np.in1d(arr, arr_2)"
   ]
  },
  {
   "cell_type": "code",
   "execution_count": 100,
   "id": "85734502",
   "metadata": {},
   "outputs": [
    {
     "data": {
      "text/plain": [
       "array([0, 1, 2, 3, 4])"
      ]
     },
     "execution_count": 100,
     "metadata": {},
     "output_type": "execute_result"
    }
   ],
   "source": [
    "np.setdiff1d(arr, arr_2)"
   ]
  },
  {
   "cell_type": "code",
   "execution_count": 101,
   "id": "fdcf33f5",
   "metadata": {
    "scrolled": true
   },
   "outputs": [
    {
     "data": {
      "text/plain": [
       "array([ 0,  1,  2,  3,  4,  6,  7,  8,  9, 10])"
      ]
     },
     "execution_count": 101,
     "metadata": {},
     "output_type": "execute_result"
    }
   ],
   "source": [
    "np.setxor1d(arr, arr_2)"
   ]
  },
  {
   "cell_type": "code",
   "execution_count": null,
   "id": "d024220d",
   "metadata": {},
   "outputs": [],
   "source": []
  }
 ],
 "metadata": {
  "kernelspec": {
   "display_name": "Python 3 (ipykernel)",
   "language": "python",
   "name": "python3"
  },
  "language_info": {
   "codemirror_mode": {
    "name": "ipython",
    "version": 3
   },
   "file_extension": ".py",
   "mimetype": "text/x-python",
   "name": "python",
   "nbconvert_exporter": "python",
   "pygments_lexer": "ipython3",
   "version": "3.8.13"
  }
 },
 "nbformat": 4,
 "nbformat_minor": 5
}
