{
 "cells": [
  {
   "cell_type": "code",
   "execution_count": 8,
   "id": "f3b91dac",
   "metadata": {},
   "outputs": [],
   "source": [
    "import pandas as pd\n",
    "import numpy as np"
   ]
  },
  {
   "cell_type": "code",
   "execution_count": 5,
   "id": "fafe950d",
   "metadata": {},
   "outputs": [
    {
     "name": "stdout",
     "output_type": "stream",
     "text": [
      "0    5\n",
      "dtype: int64\n"
     ]
    }
   ],
   "source": [
    "#crear serie con 5\n",
    "serie = pd.Series(5)\n",
    "print(serie)"
   ]
  },
  {
   "cell_type": "code",
   "execution_count": 6,
   "id": "f93399d3",
   "metadata": {},
   "outputs": [
    {
     "name": "stdout",
     "output_type": "stream",
     "text": [
      "0    a\n",
      "1    x\n",
      "2    z\n",
      "dtype: object\n"
     ]
    }
   ],
   "source": [
    "serie = pd.Series([\"a\", \"x\", \"z\"])\n",
    "print(serie)"
   ]
  },
  {
   "cell_type": "code",
   "execution_count": 9,
   "id": "51bb0a5a",
   "metadata": {},
   "outputs": [
    {
     "name": "stdout",
     "output_type": "stream",
     "text": [
      "0     2\n",
      "1     4\n",
      "2     6\n",
      "3     8\n",
      "4    10\n",
      "dtype: int32\n"
     ]
    }
   ],
   "source": [
    "array = np.array([2, 4, 6, 8, 10])\n",
    "serie = pd.Series(array)\n",
    "print(serie)"
   ]
  },
  {
   "cell_type": "code",
   "execution_count": 11,
   "id": "12c59c3f",
   "metadata": {},
   "outputs": [
    {
     "name": "stdout",
     "output_type": "stream",
     "text": [
      "0    b'1'\n",
      "1    b'2'\n",
      "2    b'3'\n",
      "3    b'4'\n",
      "4    b'5'\n",
      "5    b'6'\n",
      "dtype: bytes8\n"
     ]
    }
   ],
   "source": [
    "#convierte el contenido en texto\n",
    "serie = pd.Series([1, 2, 3, 4, 5, 6], dtype=np.string_)\n",
    "print(serie)"
   ]
  },
  {
   "cell_type": "code",
   "execution_count": 13,
   "id": "56915ea5",
   "metadata": {},
   "outputs": [
    {
     "name": "stdout",
     "output_type": "stream",
     "text": [
      "A)    1\n",
      "B)    2\n",
      "C)    3\n",
      "D)    4\n",
      "E)    5\n",
      "F)    6\n",
      "dtype: int64\n"
     ]
    }
   ],
   "source": [
    "#añadir indices\n",
    "serie = pd.Series([1, 2, 3, 4, 5, 6], index=[\"A)\", \"B)\", \"C)\", \"D)\", \"E)\", \"F)\"])\n",
    "print(serie)"
   ]
  },
  {
   "cell_type": "code",
   "execution_count": 16,
   "id": "26aee4da",
   "metadata": {},
   "outputs": [
    {
     "name": "stdout",
     "output_type": "stream",
     "text": [
      "A)    1\n",
      "B)    2\n",
      "C)    3\n",
      "D)    4\n",
      "E)    5\n",
      "F)    6\n",
      "dtype: int64\n"
     ]
    }
   ],
   "source": [
    "#crear indices con un diccionario\n",
    "serie = pd.Series({\"A)\": 1, \"B)\": 2, \"C)\": 3, \"D)\": 4, \"E)\": 5, \"F)\": 6})\n",
    "print(serie)"
   ]
  },
  {
   "cell_type": "code",
   "execution_count": 18,
   "id": "19747077",
   "metadata": {},
   "outputs": [],
   "source": [
    "serie = pd.Series([1, 2, 3, 4, 5], index=[\"A)\", \"B)\", \"C)\", \"D)\", \"F)\"], dtype=np.float64)"
   ]
  },
  {
   "cell_type": "code",
   "execution_count": 20,
   "id": "7771c1ae",
   "metadata": {},
   "outputs": [
    {
     "data": {
      "text/plain": [
       "array([1., 2., 3., 4., 5.])"
      ]
     },
     "execution_count": 20,
     "metadata": {},
     "output_type": "execute_result"
    }
   ],
   "source": [
    "serie.values"
   ]
  },
  {
   "cell_type": "code",
   "execution_count": 21,
   "id": "0774a813",
   "metadata": {},
   "outputs": [
    {
     "data": {
      "text/plain": [
       "Index(['A)', 'B)', 'C)', 'D)', 'F)'], dtype='object')"
      ]
     },
     "execution_count": 21,
     "metadata": {},
     "output_type": "execute_result"
    }
   ],
   "source": [
    "serie.index"
   ]
  },
  {
   "cell_type": "code",
   "execution_count": 22,
   "id": "8a77d833",
   "metadata": {},
   "outputs": [
    {
     "data": {
      "text/plain": [
       "'C)'"
      ]
     },
     "execution_count": 22,
     "metadata": {},
     "output_type": "execute_result"
    }
   ],
   "source": [
    "serie.index[2]"
   ]
  },
  {
   "cell_type": "code",
   "execution_count": 24,
   "id": "5ed55cfe",
   "metadata": {},
   "outputs": [
    {
     "name": "stdout",
     "output_type": "stream",
     "text": [
      "0    1.0\n",
      "1    2.0\n",
      "2    3.0\n",
      "3    4.0\n",
      "4    5.0\n",
      "dtype: float64\n"
     ]
    }
   ],
   "source": [
    "#modificar index\n",
    "serie.index = [0, 1, 2, 3, 4]\n",
    "print(serie)"
   ]
  },
  {
   "cell_type": "code",
   "execution_count": 26,
   "id": "f74352ad",
   "metadata": {},
   "outputs": [
    {
     "name": "stdout",
     "output_type": "stream",
     "text": [
      "     NOMBRE  EDAD       SEXO\n",
      "0    Nahuel    20  Masculino\n",
      "1  Patricia    30   Femenino\n",
      "2     Lucas    10  Masculino\n"
     ]
    }
   ],
   "source": [
    "#(columna[filas], columna[filas], columna[filas])\n",
    "dataFrame = pd.DataFrame({\"NOMBRE\": [\"Nahuel\", \"Patricia\", \"Lucas\"], \"EDAD\": [20, 30, 10], \"SEXO\": [\"Masculino\", \"Femenino\", \"Masculino\"]})\n",
    "print(dataFrame)"
   ]
  },
  {
   "cell_type": "code",
   "execution_count": 30,
   "id": "85bb2841",
   "metadata": {},
   "outputs": [
    {
     "name": "stdout",
     "output_type": "stream",
     "text": [
      "     NOMBRE  EDAD       SEXO\n",
      "0    Nahuel    20  Masculino\n",
      "1  Patricia    30   Femenino\n",
      "2     Lucas    10  Masculino\n"
     ]
    }
   ],
   "source": [
    "dataFrame = pd.DataFrame({\"NOMBRE\": pd.Series([\"Nahuel\", \"Patricia\", \"Lucas\"]), \"EDAD\": pd.Series([20, 30, 10]), \"SEXO\": pd.Series([\"Masculino\", \"Femenino\", \"Masculino\"])})\n",
    "print(dataFrame)"
   ]
  },
  {
   "cell_type": "code",
   "execution_count": 31,
   "id": "b9046dd0",
   "metadata": {},
   "outputs": [
    {
     "name": "stdout",
     "output_type": "stream",
     "text": [
      "     NOMBRE  EDAD       SEXO\n",
      "0    Nahuel    20  Masculino\n",
      "1  Patricia    21   Femenino\n",
      "2     Lucas    22  Masculino\n"
     ]
    }
   ],
   "source": [
    "dataFrame = pd.DataFrame({\"NOMBRE\": [\"Nahuel\", \"Patricia\", \"Lucas\"], \"EDAD\": np.arange(20, 23), \"SEXO\": [\"Masculino\", \"Femenino\", \"Masculino\"]})\n",
    "print(dataFrame)"
   ]
  },
  {
   "cell_type": "code",
   "execution_count": 36,
   "id": "07520982",
   "metadata": {},
   "outputs": [
    {
     "name": "stdout",
     "output_type": "stream",
     "text": [
      "    C1  C2  C3  C4\n",
      "F1   0   1   2   3\n",
      "F2   4   5   6   7\n",
      "F3   8   9  10  11\n",
      "F4  12  13  14  15\n",
      "F5  16  17  18  19\n"
     ]
    }
   ],
   "source": [
    "tabla = pd.DataFrame(np.arange(20).reshape(5, 4), index=[\"F1\", \"F2\", \"F3\", \"F4\", \"F5\"], columns=[\"C1\", \"C2\", \"C3\", \"C4\"])\n",
    "print(tabla)"
   ]
  },
  {
   "cell_type": "code",
   "execution_count": 38,
   "id": "57eefe4b",
   "metadata": {},
   "outputs": [
    {
     "name": "stdout",
     "output_type": "stream",
     "text": [
      "Index(['F1', 'F2', 'F3', 'F4', 'F5'], dtype='object')\n"
     ]
    }
   ],
   "source": [
    "print(tabla.index)"
   ]
  },
  {
   "cell_type": "code",
   "execution_count": 39,
   "id": "eaa8a273",
   "metadata": {},
   "outputs": [
    {
     "name": "stdout",
     "output_type": "stream",
     "text": [
      "Index(['C1', 'C2', 'C3', 'C4'], dtype='object')\n"
     ]
    }
   ],
   "source": [
    "print(tabla.columns)"
   ]
  },
  {
   "cell_type": "code",
   "execution_count": 40,
   "id": "7aa77e0f",
   "metadata": {},
   "outputs": [
    {
     "name": "stdout",
     "output_type": "stream",
     "text": [
      "[[ 0  1  2  3]\n",
      " [ 4  5  6  7]\n",
      " [ 8  9 10 11]\n",
      " [12 13 14 15]\n",
      " [16 17 18 19]]\n"
     ]
    }
   ],
   "source": [
    "print(tabla.values)"
   ]
  },
  {
   "cell_type": "code",
   "execution_count": 41,
   "id": "15bc68a1",
   "metadata": {},
   "outputs": [
    {
     "name": "stdout",
     "output_type": "stream",
     "text": [
      "    C1  C2  C3  C4\n",
      "F1   0   1   2   3\n",
      "F2   4   5   6   7\n",
      "F3   8   9  10  11\n",
      "F4  12  13  14  15\n",
      "F5  16  17  18  19\n"
     ]
    }
   ],
   "source": [
    "tabla = pd.DataFrame(np.arange(20).reshape(5, 4), index=[\"F1\", \"F2\", \"F3\", \"F4\", \"F5\"], columns=[\"C1\", \"C2\", \"C3\", \"C4\"])\n",
    "print(tabla)"
   ]
  },
  {
   "cell_type": "code",
   "execution_count": 42,
   "id": "82608be5",
   "metadata": {},
   "outputs": [
    {
     "data": {
      "text/html": [
       "<div>\n",
       "<style scoped>\n",
       "    .dataframe tbody tr th:only-of-type {\n",
       "        vertical-align: middle;\n",
       "    }\n",
       "\n",
       "    .dataframe tbody tr th {\n",
       "        vertical-align: top;\n",
       "    }\n",
       "\n",
       "    .dataframe thead th {\n",
       "        text-align: right;\n",
       "    }\n",
       "</style>\n",
       "<table border=\"1\" class=\"dataframe\">\n",
       "  <thead>\n",
       "    <tr style=\"text-align: right;\">\n",
       "      <th></th>\n",
       "      <th>C1</th>\n",
       "      <th>Columna 2</th>\n",
       "      <th>C3</th>\n",
       "      <th>C4</th>\n",
       "    </tr>\n",
       "  </thead>\n",
       "  <tbody>\n",
       "    <tr>\n",
       "      <th>F1</th>\n",
       "      <td>0</td>\n",
       "      <td>1</td>\n",
       "      <td>2</td>\n",
       "      <td>3</td>\n",
       "    </tr>\n",
       "    <tr>\n",
       "      <th>F2</th>\n",
       "      <td>4</td>\n",
       "      <td>5</td>\n",
       "      <td>6</td>\n",
       "      <td>7</td>\n",
       "    </tr>\n",
       "    <tr>\n",
       "      <th>F3</th>\n",
       "      <td>8</td>\n",
       "      <td>9</td>\n",
       "      <td>10</td>\n",
       "      <td>11</td>\n",
       "    </tr>\n",
       "    <tr>\n",
       "      <th>F4</th>\n",
       "      <td>12</td>\n",
       "      <td>13</td>\n",
       "      <td>14</td>\n",
       "      <td>15</td>\n",
       "    </tr>\n",
       "    <tr>\n",
       "      <th>F5</th>\n",
       "      <td>16</td>\n",
       "      <td>17</td>\n",
       "      <td>18</td>\n",
       "      <td>19</td>\n",
       "    </tr>\n",
       "  </tbody>\n",
       "</table>\n",
       "</div>"
      ],
      "text/plain": [
       "    C1  Columna 2  C3  C4\n",
       "F1   0          1   2   3\n",
       "F2   4          5   6   7\n",
       "F3   8          9  10  11\n",
       "F4  12         13  14  15\n",
       "F5  16         17  18  19"
      ]
     },
     "execution_count": 42,
     "metadata": {},
     "output_type": "execute_result"
    }
   ],
   "source": [
    "tabla.rename(columns = {\"C2\": \"Columna 2\"})"
   ]
  },
  {
   "cell_type": "code",
   "execution_count": null,
   "id": "3d03f687",
   "metadata": {},
   "outputs": [],
   "source": []
  }
 ],
 "metadata": {
  "kernelspec": {
   "display_name": "Python 3 (ipykernel)",
   "language": "python",
   "name": "python3"
  },
  "language_info": {
   "codemirror_mode": {
    "name": "ipython",
    "version": 3
   },
   "file_extension": ".py",
   "mimetype": "text/x-python",
   "name": "python",
   "nbconvert_exporter": "python",
   "pygments_lexer": "ipython3",
   "version": "3.8.13"
  }
 },
 "nbformat": 4,
 "nbformat_minor": 5
}
