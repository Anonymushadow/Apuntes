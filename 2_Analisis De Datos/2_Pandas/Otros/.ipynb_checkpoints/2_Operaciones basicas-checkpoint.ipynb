{
 "cells": [
  {
   "cell_type": "code",
   "execution_count": 141,
   "id": "a36c8894",
   "metadata": {},
   "outputs": [],
   "source": [
    "import numpy as np\n",
    "import pandas as pd"
   ]
  },
  {
   "cell_type": "code",
   "execution_count": 142,
   "id": "286d16fa",
   "metadata": {},
   "outputs": [
    {
     "name": "stdout",
     "output_type": "stream",
     "text": [
      "a    1\n",
      "b    2\n",
      "c    3\n",
      "d    4\n",
      "f    5\n",
      "dtype: int64\n"
     ]
    }
   ],
   "source": [
    "serie = pd.Series([1, 2, 3, 4, 5], index = [\"a\", \"b\", \"c\", \"d\", \"f\"])\n",
    "print(serie)"
   ]
  },
  {
   "cell_type": "code",
   "execution_count": 143,
   "id": "19b6ef5c",
   "metadata": {
    "scrolled": true
   },
   "outputs": [
    {
     "name": "stdout",
     "output_type": "stream",
     "text": [
      "   var 1  var 2\n",
      "a      1      1\n",
      "b      2      2\n",
      "c      3      3\n",
      "d      4      4\n",
      "f      5      5\n"
     ]
    }
   ],
   "source": [
    "dataFrame = pd.DataFrame({\"var 1\": serie, \"var 2\": serie})\n",
    "print(dataFrame)"
   ]
  },
  {
   "cell_type": "code",
   "execution_count": 144,
   "id": "c40cdb74",
   "metadata": {},
   "outputs": [
    {
     "data": {
      "text/plain": [
       "1"
      ]
     },
     "execution_count": 144,
     "metadata": {},
     "output_type": "execute_result"
    }
   ],
   "source": [
    "serie[\"a\"]"
   ]
  },
  {
   "cell_type": "code",
   "execution_count": 145,
   "id": "da216c7d",
   "metadata": {},
   "outputs": [
    {
     "data": {
      "text/plain": [
       "a    1\n",
       "b    2\n",
       "c    3\n",
       "d    4\n",
       "f    5\n",
       "Name: var 2, dtype: int64"
      ]
     },
     "execution_count": 145,
     "metadata": {},
     "output_type": "execute_result"
    }
   ],
   "source": [
    "dataFrame[\"var 2\"]"
   ]
  },
  {
   "cell_type": "code",
   "execution_count": 146,
   "id": "2ea8b5ca",
   "metadata": {},
   "outputs": [
    {
     "name": "stdout",
     "output_type": "stream",
     "text": [
      "True\n"
     ]
    }
   ],
   "source": [
    "#existe la fila b?\n",
    "print(\"b\" in serie)"
   ]
  },
  {
   "cell_type": "code",
   "execution_count": 147,
   "id": "65eb05f9",
   "metadata": {},
   "outputs": [
    {
     "name": "stdout",
     "output_type": "stream",
     "text": [
      "False\n"
     ]
    }
   ],
   "source": [
    "#existe la columna b?\n",
    "print(\"b\" in dataFrame)"
   ]
  },
  {
   "cell_type": "code",
   "execution_count": 148,
   "id": "7c2db976",
   "metadata": {},
   "outputs": [
    {
     "name": "stdout",
     "output_type": "stream",
     "text": [
      "   var 1  var 2\n",
      "a      1      5\n",
      "b      2      6\n",
      "c      3      7\n",
      "d      4      8\n",
      "f      5      9\n"
     ]
    }
   ],
   "source": [
    "dataFrame[\"var 2\"] = [5, 6, 7, 8, 9]\n",
    "print(dataFrame)"
   ]
  },
  {
   "cell_type": "code",
   "execution_count": 149,
   "id": "fe17804b",
   "metadata": {},
   "outputs": [
    {
     "name": "stdout",
     "output_type": "stream",
     "text": [
      "a    1\n",
      "b    2\n",
      "c    3\n",
      "d    4\n",
      "f    5\n",
      "dtype: int64\n",
      "\n",
      "b    2\n",
      "c    3\n",
      "d    4\n",
      "f    5\n",
      "dtype: int64\n"
     ]
    }
   ],
   "source": [
    "print(serie)\n",
    "print(\"\")\n",
    "#a serie quitarle \"e\"\n",
    "del serie[\"a\"]\n",
    "print(serie)"
   ]
  },
  {
   "cell_type": "code",
   "execution_count": 150,
   "id": "50960dd2",
   "metadata": {},
   "outputs": [
    {
     "name": "stdout",
     "output_type": "stream",
     "text": [
      "a    1\n",
      "b    2\n",
      "c    3\n",
      "d    4\n",
      "dtype: int64\n"
     ]
    }
   ],
   "source": [
    "serie = pd.Series([1, 2, 3, 4], index = [\"a\", \"b\", \"c\", \"d\"])\n",
    "print(serie)"
   ]
  },
  {
   "cell_type": "code",
   "execution_count": 151,
   "id": "24edf014",
   "metadata": {},
   "outputs": [
    {
     "name": "stdout",
     "output_type": "stream",
     "text": [
      "   var1  var2\n",
      "a     1  b'1'\n",
      "b     2  b'2'\n",
      "c     3  b'3'\n",
      "d     4  b'4'\n"
     ]
    }
   ],
   "source": [
    "dataFrame = pd.DataFrame({\"var1\": pd.Series(serie, dtype=np.int32), \"var2\": pd.Series(serie, dtype=np.string_)})\n",
    "print(dataFrame)"
   ]
  },
  {
   "cell_type": "code",
   "execution_count": 152,
   "id": "fe787dfb",
   "metadata": {},
   "outputs": [
    {
     "name": "stdout",
     "output_type": "stream",
     "text": [
      "a    1\n",
      "b    2\n",
      "c    3\n",
      "d    4\n",
      "dtype: int64\n"
     ]
    }
   ],
   "source": [
    "print(serie)"
   ]
  },
  {
   "cell_type": "code",
   "execution_count": 153,
   "id": "1e3d62e1",
   "metadata": {},
   "outputs": [
    {
     "name": "stdout",
     "output_type": "stream",
     "text": [
      "a    3\n",
      "b    4\n",
      "c    5\n",
      "d    6\n",
      "dtype: int64\n"
     ]
    }
   ],
   "source": [
    "print(serie + 2)"
   ]
  },
  {
   "cell_type": "code",
   "execution_count": 154,
   "id": "dbcd4ee0",
   "metadata": {},
   "outputs": [
    {
     "name": "stdout",
     "output_type": "stream",
     "text": [
      "   var1  var2\n",
      "a     1  b'1'\n",
      "b     2  b'2'\n",
      "c     3  b'3'\n",
      "d     4  b'4'\n"
     ]
    }
   ],
   "source": [
    "print(dataFrame)"
   ]
  },
  {
   "cell_type": "code",
   "execution_count": 155,
   "id": "ccadb6a2",
   "metadata": {},
   "outputs": [
    {
     "name": "stdout",
     "output_type": "stream",
     "text": [
      "   var1   var2\n",
      "a     2  b'11'\n",
      "b     4  b'22'\n",
      "c     6  b'33'\n",
      "d     8  b'44'\n"
     ]
    }
   ],
   "source": [
    "print(dataFrame * 2)"
   ]
  },
  {
   "cell_type": "code",
   "execution_count": 156,
   "id": "e7aaa0b3",
   "metadata": {},
   "outputs": [
    {
     "name": "stdout",
     "output_type": "stream",
     "text": [
      "a    1\n",
      "b    2\n",
      "c    3\n",
      "d    4\n",
      "dtype: int64\n"
     ]
    }
   ],
   "source": [
    "#indice a con indice a, indice z con indice z... etc\n",
    "serie_uno = serie[:]\n",
    "print(serie_uno)"
   ]
  },
  {
   "cell_type": "code",
   "execution_count": 157,
   "id": "800dc424",
   "metadata": {},
   "outputs": [
    {
     "name": "stdout",
     "output_type": "stream",
     "text": [
      "a    1\n",
      "b    2\n",
      "c    3\n",
      "d    4\n",
      "e    7\n",
      "dtype: int64\n"
     ]
    }
   ],
   "source": [
    "serie_uno[\"e\"] = 7\n",
    "print(serie_uno)"
   ]
  },
  {
   "cell_type": "code",
   "execution_count": 158,
   "id": "ee271742",
   "metadata": {},
   "outputs": [
    {
     "name": "stdout",
     "output_type": "stream",
     "text": [
      "   var1  var2  var3\n",
      "a     1  b'1'     1\n",
      "b     2  b'2'     2\n",
      "c     3  b'3'     3\n",
      "d     4  b'4'     4\n"
     ]
    }
   ],
   "source": [
    "dataFrame_uno =dataFrame\n",
    "dataFrame_uno[\"var3\"] = [1, 2, 3, 4]\n",
    "print(dataFrame_uno)"
   ]
  },
  {
   "cell_type": "code",
   "execution_count": 159,
   "id": "f8ccfc24",
   "metadata": {},
   "outputs": [
    {
     "name": "stdout",
     "output_type": "stream",
     "text": [
      "a    2.0\n",
      "b    4.0\n",
      "c    6.0\n",
      "d    8.0\n",
      "e    NaN\n",
      "dtype: float64\n"
     ]
    }
   ],
   "source": [
    "print(serie + serie_uno)\n",
    "#7 + algo que no se que es da un resultado desconocido"
   ]
  },
  {
   "cell_type": "code",
   "execution_count": 160,
   "id": "ac75a3b1",
   "metadata": {},
   "outputs": [
    {
     "name": "stdout",
     "output_type": "stream",
     "text": [
      "   var1   var2  var3\n",
      "a     2  b'11'     2\n",
      "b     4  b'22'     4\n",
      "c     6  b'33'     6\n",
      "d     8  b'44'     8\n"
     ]
    }
   ],
   "source": [
    "print(dataFrame + dataFrame_uno)\n",
    "#dataFrame_uno = dataFrame --> significa que son lo mismo, si se modifica uno se modifca el otro\n",
    "#forma correcta es dataFrame_uno = dataFrame[:]"
   ]
  },
  {
   "cell_type": "code",
   "execution_count": 161,
   "id": "2643cb13",
   "metadata": {},
   "outputs": [
    {
     "name": "stdout",
     "output_type": "stream",
     "text": [
      "   var1  var2  var3\n",
      "a     1  b'1'     1\n",
      "b     2  b'2'     2\n",
      "c     3  b'3'     3\n",
      "d     4  b'4'     4\n",
      "\n",
      "         a     b     c     d\n",
      "var1     1     2     3     4\n",
      "var2  b'1'  b'2'  b'3'  b'4'\n",
      "var3     1     2     3     4\n"
     ]
    }
   ],
   "source": [
    "print(dataFrame)\n",
    "print(\"\")\n",
    "print(dataFrame.T)"
   ]
  },
  {
   "cell_type": "code",
   "execution_count": 162,
   "id": "72f47656",
   "metadata": {},
   "outputs": [],
   "source": [
    "#operaciones basicas 2"
   ]
  },
  {
   "cell_type": "code",
   "execution_count": 163,
   "id": "69f45b62",
   "metadata": {},
   "outputs": [
    {
     "name": "stdout",
     "output_type": "stream",
     "text": [
      "1\n"
     ]
    }
   ],
   "source": [
    "#seleccionar por indice\n",
    "serie = pd.Series([1, 2, 3, 4, 5], index = [\"a\", \"b\", \"c\", \"d\", \"e\"])\n",
    "print(serie.a)"
   ]
  },
  {
   "cell_type": "code",
   "execution_count": 164,
   "id": "34302570",
   "metadata": {},
   "outputs": [
    {
     "name": "stdout",
     "output_type": "stream",
     "text": [
      "    a  b\n",
      "1)  0  1\n",
      "2)  2  3\n"
     ]
    }
   ],
   "source": [
    "dataFrame = pd.DataFrame(np.arange(4).reshape(2, 2), index = [\"1)\", \"2)\"], columns = [\"a\", \"b\"])\n",
    "print(dataFrame)"
   ]
  },
  {
   "cell_type": "code",
   "execution_count": 165,
   "id": "bcc3c4b0",
   "metadata": {},
   "outputs": [
    {
     "ename": "SyntaxError",
     "evalue": "invalid character '·' (U+00B7) (675068743.py, line 1)",
     "output_type": "error",
     "traceback": [
      "\u001b[1;36m  Input \u001b[1;32mIn [165]\u001b[1;36m\u001b[0m\n\u001b[1;33m    ·seleccionar la columna con indice a\u001b[0m\n\u001b[1;37m    ^\u001b[0m\n\u001b[1;31mSyntaxError\u001b[0m\u001b[1;31m:\u001b[0m invalid character '·' (U+00B7)\n"
     ]
    }
   ],
   "source": [
    "·seleccionar la columna con indice a\n",
    "dataFrame.a"
   ]
  },
  {
   "cell_type": "code",
   "execution_count": 166,
   "id": "87f3dd59",
   "metadata": {},
   "outputs": [
    {
     "data": {
      "text/plain": [
       "1"
      ]
     },
     "execution_count": 166,
     "metadata": {},
     "output_type": "execute_result"
    }
   ],
   "source": [
    "serie[0]"
   ]
  },
  {
   "cell_type": "code",
   "execution_count": 167,
   "id": "58e98f2c",
   "metadata": {},
   "outputs": [
    {
     "data": {
      "text/plain": [
       "1)    0\n",
       "2)    2\n",
       "Name: a, dtype: int32"
      ]
     },
     "execution_count": 167,
     "metadata": {},
     "output_type": "execute_result"
    }
   ],
   "source": [
    "dataFrame[\"a\"]"
   ]
  },
  {
   "cell_type": "code",
   "execution_count": 168,
   "id": "3f21569b",
   "metadata": {},
   "outputs": [
    {
     "name": "stdout",
     "output_type": "stream",
     "text": [
      "\n",
      "\n",
      "a    1\n",
      "b    2\n",
      "dtype: int64\n",
      "\n",
      "a    1\n",
      "b    2\n",
      "dtype: int64\n"
     ]
    }
   ],
   "source": [
    "print(\"\")\n",
    "serie.loc[\"a\"]\n",
    "print(\"\")\n",
    "print(serie.loc[\"a\":\"b\"])\n",
    "print(\"\")\n",
    "print(serie.loc[[\"a\", \"b\"]])"
   ]
  },
  {
   "cell_type": "code",
   "execution_count": 169,
   "id": "fcdc27ba",
   "metadata": {},
   "outputs": [
    {
     "data": {
      "text/plain": [
       "0"
      ]
     },
     "execution_count": 169,
     "metadata": {},
     "output_type": "execute_result"
    }
   ],
   "source": [
    "#fila 1), columna a\n",
    "dataFrame.loc[\"1)\", \"a\"]"
   ]
  },
  {
   "cell_type": "code",
   "execution_count": 170,
   "id": "2a9f9d37",
   "metadata": {},
   "outputs": [
    {
     "data": {
      "text/plain": [
       "3"
      ]
     },
     "execution_count": 170,
     "metadata": {},
     "output_type": "execute_result"
    }
   ],
   "source": [
    "serie.iloc[2]"
   ]
  },
  {
   "cell_type": "code",
   "execution_count": 171,
   "id": "eec05fbb",
   "metadata": {},
   "outputs": [
    {
     "data": {
      "text/plain": [
       "3"
      ]
     },
     "execution_count": 171,
     "metadata": {},
     "output_type": "execute_result"
    }
   ],
   "source": [
    "dataFrame.iloc[1, 1]"
   ]
  },
  {
   "cell_type": "code",
   "execution_count": 172,
   "id": "f672fedc",
   "metadata": {},
   "outputs": [
    {
     "name": "stdout",
     "output_type": "stream",
     "text": [
      "                             Valoracion  Presupuesto         Director\n",
      "2014 Godzilla                      6.00        160.0    Peter Jackson\n",
      "     El Hobbit III                  NaN        250.0    Garet Edwards\n",
      "2013 El Lobo de Wall Street        8.75        100.0  Martin Scorsese\n",
      "     Gravity                        NaN          NaN   Alfonso Cuaron\n"
     ]
    }
   ],
   "source": [
    "peliculas = pd.DataFrame({\n",
    "    \"Valoracion\": [6, None, 8.75, None],\n",
    "    \"Presupuesto\": [160, 250, 100, None],\n",
    "    \"Director\": [\"Peter Jackson\", \"Garet Edwards\", \"Martin Scorsese\", \"Alfonso Cuaron\"]\n",
    "}, index = [[2014, 2014, 2013, 2013], [\"Godzilla\", \"El Hobbit III\", \"El Lobo de Wall Street\", \"Gravity\"]])\n",
    "print(peliculas)"
   ]
  },
  {
   "cell_type": "code",
   "execution_count": 173,
   "id": "c87a71b7",
   "metadata": {},
   "outputs": [
    {
     "name": "stdout",
     "output_type": "stream",
     "text": [
      "Valoracion               6.0\n",
      "Presupuesto            160.0\n",
      "Director       Peter Jackson\n",
      "Name: (2014, Godzilla), dtype: object\n"
     ]
    }
   ],
   "source": [
    "print(peliculas.loc[(2014, \"Godzilla\")])"
   ]
  },
  {
   "cell_type": "code",
   "execution_count": 174,
   "id": "8cdcaa45",
   "metadata": {},
   "outputs": [
    {
     "name": "stdout",
     "output_type": "stream",
     "text": [
      "        Valoracion                                           Presupuesto  \\\n",
      "     El Hobbit III El Lobo de Wall Street Godzilla Gravity El Hobbit III   \n",
      "2013           NaN                   8.75      NaN     NaN           NaN   \n",
      "2014           NaN                    NaN      6.0     NaN         250.0   \n",
      "\n",
      "                                                   Director  \\\n",
      "     El Lobo de Wall Street Godzilla Gravity  El Hobbit III   \n",
      "2013                  100.0      NaN     NaN            NaN   \n",
      "2014                    NaN    160.0     NaN  Garet Edwards   \n",
      "\n",
      "                                                            \n",
      "     El Lobo de Wall Street       Godzilla         Gravity  \n",
      "2013        Martin Scorsese            NaN  Alfonso Cuaron  \n",
      "2014                    NaN  Peter Jackson             NaN  \n"
     ]
    }
   ],
   "source": [
    "#puso una fila de index en columns\n",
    "p2 = peliculas.unstack()\n",
    "print(p2)"
   ]
  },
  {
   "cell_type": "code",
   "execution_count": 175,
   "id": "822a6b99",
   "metadata": {},
   "outputs": [
    {
     "name": "stdout",
     "output_type": "stream",
     "text": [
      "                             Valoracion  Presupuesto         Director\n",
      "2013 El Lobo de Wall Street        8.75        100.0  Martin Scorsese\n",
      "     Gravity                        NaN          NaN   Alfonso Cuaron\n",
      "2014 El Hobbit III                  NaN        250.0    Garet Edwards\n",
      "     Godzilla                      6.00        160.0    Peter Jackson\n"
     ]
    }
   ],
   "source": [
    "p2 = p2.stack()\n",
    "print(p2)"
   ]
  },
  {
   "cell_type": "code",
   "execution_count": 176,
   "id": "59ea2826",
   "metadata": {},
   "outputs": [
    {
     "name": "stdout",
     "output_type": "stream",
     "text": [
      "        Valoracion                                           Presupuesto  \\\n",
      "     El Hobbit III El Lobo de Wall Street Godzilla Gravity El Hobbit III   \n",
      "2013           NaN                   8.75      NaN     NaN           NaN   \n",
      "2014           NaN                    NaN      6.0     NaN         250.0   \n",
      "\n",
      "                                                   Director  \\\n",
      "     El Lobo de Wall Street Godzilla Gravity  El Hobbit III   \n",
      "2013                  100.0      NaN     NaN            NaN   \n",
      "2014                    NaN    160.0     NaN  Garet Edwards   \n",
      "\n",
      "                                                            \n",
      "     El Lobo de Wall Street       Godzilla         Gravity  \n",
      "2013        Martin Scorsese            NaN  Alfonso Cuaron  \n",
      "2014                    NaN  Peter Jackson             NaN  \n"
     ]
    }
   ],
   "source": [
    "p2 = p2.unstack()\n",
    "print(p2)"
   ]
  },
  {
   "cell_type": "code",
   "execution_count": 177,
   "id": "3bf7aa68",
   "metadata": {},
   "outputs": [
    {
     "name": "stdout",
     "output_type": "stream",
     "text": [
      "a    1\n",
      "b    2\n",
      "c    3\n",
      "d    4\n",
      "dtype: int64\n"
     ]
    }
   ],
   "source": [
    "series = pd.Series([1, 2, 3, 4], index = [\"a\", \"b\", \"c\", \"d\"])\n",
    "print(series)"
   ]
  },
  {
   "cell_type": "code",
   "execution_count": 178,
   "id": "35ca5888",
   "metadata": {},
   "outputs": [
    {
     "name": "stdout",
     "output_type": "stream",
     "text": [
      "     0   1   2   3\n",
      "f1   0   1   2   3\n",
      "f2   4   5   6   7\n",
      "f3   8   9  10  11\n",
      "f4  12  13  14  15\n"
     ]
    }
   ],
   "source": [
    "df = pd.DataFrame(np.arange(16).reshape(4, 4), index = [\"f1\", \"f2\", \"f3\", \"f4\"])\n",
    "print(df)"
   ]
  },
  {
   "cell_type": "code",
   "execution_count": 179,
   "id": "3cfae07b",
   "metadata": {},
   "outputs": [
    {
     "data": {
      "text/plain": [
       "d    4\n",
       "c    3\n",
       "b    2\n",
       "a    1\n",
       "dtype: int64"
      ]
     },
     "execution_count": 179,
     "metadata": {},
     "output_type": "execute_result"
    }
   ],
   "source": [
    "#invertir serie\n",
    "series.reindex([\"d\", \"c\", \"b\", \"a\"])"
   ]
  },
  {
   "cell_type": "code",
   "execution_count": 180,
   "id": "3abe2c46",
   "metadata": {},
   "outputs": [
    {
     "data": {
      "text/plain": [
       "d    4.0\n",
       "c    3.0\n",
       "e    NaN\n",
       "a    1.0\n",
       "b    2.0\n",
       "dtype: float64"
      ]
     },
     "execution_count": 180,
     "metadata": {},
     "output_type": "execute_result"
    }
   ],
   "source": [
    "series.reindex([\"d\", \"c\", \"e\", \"a\", \"b\"])"
   ]
  },
  {
   "cell_type": "code",
   "execution_count": 181,
   "id": "55ac7bf9",
   "metadata": {},
   "outputs": [
    {
     "data": {
      "text/plain": [
       "e    0\n",
       "a    1\n",
       "d    4\n",
       "c    3\n",
       "b    2\n",
       "dtype: int64"
      ]
     },
     "execution_count": 181,
     "metadata": {},
     "output_type": "execute_result"
    }
   ],
   "source": [
    "series.reindex([\"e\", \"a\", \"d\", \"c\", \"b\"], fill_value = 0)"
   ]
  },
  {
   "cell_type": "code",
   "execution_count": 182,
   "id": "26b62629",
   "metadata": {},
   "outputs": [
    {
     "data": {
      "text/html": [
       "<div>\n",
       "<style scoped>\n",
       "    .dataframe tbody tr th:only-of-type {\n",
       "        vertical-align: middle;\n",
       "    }\n",
       "\n",
       "    .dataframe tbody tr th {\n",
       "        vertical-align: top;\n",
       "    }\n",
       "\n",
       "    .dataframe thead th {\n",
       "        text-align: right;\n",
       "    }\n",
       "</style>\n",
       "<table border=\"1\" class=\"dataframe\">\n",
       "  <thead>\n",
       "    <tr style=\"text-align: right;\">\n",
       "      <th></th>\n",
       "      <th>0</th>\n",
       "      <th>1</th>\n",
       "      <th>2</th>\n",
       "      <th>3</th>\n",
       "    </tr>\n",
       "  </thead>\n",
       "  <tbody>\n",
       "    <tr>\n",
       "      <th>f1</th>\n",
       "      <td>0</td>\n",
       "      <td>1</td>\n",
       "      <td>2</td>\n",
       "      <td>3</td>\n",
       "    </tr>\n",
       "    <tr>\n",
       "      <th>f3</th>\n",
       "      <td>8</td>\n",
       "      <td>9</td>\n",
       "      <td>10</td>\n",
       "      <td>11</td>\n",
       "    </tr>\n",
       "  </tbody>\n",
       "</table>\n",
       "</div>"
      ],
      "text/plain": [
       "    0  1   2   3\n",
       "f1  0  1   2   3\n",
       "f3  8  9  10  11"
      ]
     },
     "execution_count": 182,
     "metadata": {},
     "output_type": "execute_result"
    }
   ],
   "source": [
    "df.reindex([\"f1\", \"f3\"])"
   ]
  },
  {
   "cell_type": "code",
   "execution_count": 183,
   "id": "8d8f42c4",
   "metadata": {},
   "outputs": [
    {
     "data": {
      "text/html": [
       "<div>\n",
       "<style scoped>\n",
       "    .dataframe tbody tr th:only-of-type {\n",
       "        vertical-align: middle;\n",
       "    }\n",
       "\n",
       "    .dataframe tbody tr th {\n",
       "        vertical-align: top;\n",
       "    }\n",
       "\n",
       "    .dataframe thead th {\n",
       "        text-align: right;\n",
       "    }\n",
       "</style>\n",
       "<table border=\"1\" class=\"dataframe\">\n",
       "  <thead>\n",
       "    <tr style=\"text-align: right;\">\n",
       "      <th></th>\n",
       "      <th>0</th>\n",
       "      <th>1</th>\n",
       "      <th>2</th>\n",
       "      <th>3</th>\n",
       "    </tr>\n",
       "  </thead>\n",
       "  <tbody>\n",
       "    <tr>\n",
       "      <th>f1</th>\n",
       "      <td>0.0</td>\n",
       "      <td>1.0</td>\n",
       "      <td>2.0</td>\n",
       "      <td>3.0</td>\n",
       "    </tr>\n",
       "    <tr>\n",
       "      <th>f3</th>\n",
       "      <td>8.0</td>\n",
       "      <td>9.0</td>\n",
       "      <td>10.0</td>\n",
       "      <td>11.0</td>\n",
       "    </tr>\n",
       "    <tr>\n",
       "      <th>f6</th>\n",
       "      <td>NaN</td>\n",
       "      <td>NaN</td>\n",
       "      <td>NaN</td>\n",
       "      <td>NaN</td>\n",
       "    </tr>\n",
       "  </tbody>\n",
       "</table>\n",
       "</div>"
      ],
      "text/plain": [
       "      0    1     2     3\n",
       "f1  0.0  1.0   2.0   3.0\n",
       "f3  8.0  9.0  10.0  11.0\n",
       "f6  NaN  NaN   NaN   NaN"
      ]
     },
     "execution_count": 183,
     "metadata": {},
     "output_type": "execute_result"
    }
   ],
   "source": [
    "df.reindex([\"f1\", \"f3\", \"f6\"])"
   ]
  },
  {
   "cell_type": "code",
   "execution_count": 184,
   "id": "c1e5b288",
   "metadata": {},
   "outputs": [
    {
     "name": "stdout",
     "output_type": "stream",
     "text": [
      "     0   1   2   3\n",
      "f1   0   1   2   3\n",
      "f2   4   5   6   7\n",
      "f3   8   9  10  11\n",
      "f4  12  13  14  15\n"
     ]
    },
    {
     "data": {
      "text/html": [
       "<div>\n",
       "<style scoped>\n",
       "    .dataframe tbody tr th:only-of-type {\n",
       "        vertical-align: middle;\n",
       "    }\n",
       "\n",
       "    .dataframe tbody tr th {\n",
       "        vertical-align: top;\n",
       "    }\n",
       "\n",
       "    .dataframe thead th {\n",
       "        text-align: right;\n",
       "    }\n",
       "</style>\n",
       "<table border=\"1\" class=\"dataframe\">\n",
       "  <thead>\n",
       "    <tr style=\"text-align: right;\">\n",
       "      <th></th>\n",
       "      <th>0</th>\n",
       "      <th>1</th>\n",
       "      <th>2</th>\n",
       "      <th>3</th>\n",
       "    </tr>\n",
       "  </thead>\n",
       "  <tbody>\n",
       "    <tr>\n",
       "      <th>f1</th>\n",
       "      <td>0</td>\n",
       "      <td>1</td>\n",
       "      <td>2</td>\n",
       "      <td>3</td>\n",
       "    </tr>\n",
       "    <tr>\n",
       "      <th>f3</th>\n",
       "      <td>8</td>\n",
       "      <td>9</td>\n",
       "      <td>10</td>\n",
       "      <td>11</td>\n",
       "    </tr>\n",
       "    <tr>\n",
       "      <th>f10</th>\n",
       "      <td>0</td>\n",
       "      <td>1</td>\n",
       "      <td>2</td>\n",
       "      <td>3</td>\n",
       "    </tr>\n",
       "  </tbody>\n",
       "</table>\n",
       "</div>"
      ],
      "text/plain": [
       "     0  1   2   3\n",
       "f1   0  1   2   3\n",
       "f3   8  9  10  11\n",
       "f10  0  1   2   3"
      ]
     },
     "execution_count": 184,
     "metadata": {},
     "output_type": "execute_result"
    }
   ],
   "source": [
    "print(df)\n",
    "#los indices sos strings por lo que f10 toma los valores de su siguiente (f3--> 1, 10, 3 --> f1 < f10 < f3 --> orden alfabetico)\n",
    "df.reindex([\"f1\", \"f3\", \"f10\"], method = \"ffill\")"
   ]
  },
  {
   "cell_type": "code",
   "execution_count": 185,
   "id": "0cf87c32",
   "metadata": {},
   "outputs": [
    {
     "data": {
      "text/html": [
       "<div>\n",
       "<style scoped>\n",
       "    .dataframe tbody tr th:only-of-type {\n",
       "        vertical-align: middle;\n",
       "    }\n",
       "\n",
       "    .dataframe tbody tr th {\n",
       "        vertical-align: top;\n",
       "    }\n",
       "\n",
       "    .dataframe thead th {\n",
       "        text-align: right;\n",
       "    }\n",
       "</style>\n",
       "<table border=\"1\" class=\"dataframe\">\n",
       "  <thead>\n",
       "    <tr style=\"text-align: right;\">\n",
       "      <th></th>\n",
       "      <th>0</th>\n",
       "      <th>1</th>\n",
       "      <th>2</th>\n",
       "      <th>3</th>\n",
       "    </tr>\n",
       "  </thead>\n",
       "  <tbody>\n",
       "    <tr>\n",
       "      <th>f1</th>\n",
       "      <td>0</td>\n",
       "      <td>1</td>\n",
       "      <td>2</td>\n",
       "      <td>3</td>\n",
       "    </tr>\n",
       "    <tr>\n",
       "      <th>f3</th>\n",
       "      <td>8</td>\n",
       "      <td>9</td>\n",
       "      <td>10</td>\n",
       "      <td>11</td>\n",
       "    </tr>\n",
       "    <tr>\n",
       "      <th>f10</th>\n",
       "      <td>4</td>\n",
       "      <td>5</td>\n",
       "      <td>6</td>\n",
       "      <td>7</td>\n",
       "    </tr>\n",
       "  </tbody>\n",
       "</table>\n",
       "</div>"
      ],
      "text/plain": [
       "     0  1   2   3\n",
       "f1   0  1   2   3\n",
       "f3   8  9  10  11\n",
       "f10  4  5   6   7"
      ]
     },
     "execution_count": 185,
     "metadata": {},
     "output_type": "execute_result"
    }
   ],
   "source": [
    "df.reindex([\"f1\", \"f3\", \"f10\"], method = \"bfill\")"
   ]
  },
  {
   "cell_type": "code",
   "execution_count": 186,
   "id": "29b1dddf",
   "metadata": {},
   "outputs": [
    {
     "data": {
      "text/html": [
       "<div>\n",
       "<style scoped>\n",
       "    .dataframe tbody tr th:only-of-type {\n",
       "        vertical-align: middle;\n",
       "    }\n",
       "\n",
       "    .dataframe tbody tr th {\n",
       "        vertical-align: top;\n",
       "    }\n",
       "\n",
       "    .dataframe thead th {\n",
       "        text-align: right;\n",
       "    }\n",
       "</style>\n",
       "<table border=\"1\" class=\"dataframe\">\n",
       "  <thead>\n",
       "    <tr style=\"text-align: right;\">\n",
       "      <th></th>\n",
       "      <th>0</th>\n",
       "      <th>3</th>\n",
       "      <th>10</th>\n",
       "    </tr>\n",
       "  </thead>\n",
       "  <tbody>\n",
       "    <tr>\n",
       "      <th>f1</th>\n",
       "      <td>0</td>\n",
       "      <td>3</td>\n",
       "      <td>3</td>\n",
       "    </tr>\n",
       "    <tr>\n",
       "      <th>f2</th>\n",
       "      <td>4</td>\n",
       "      <td>7</td>\n",
       "      <td>7</td>\n",
       "    </tr>\n",
       "    <tr>\n",
       "      <th>f3</th>\n",
       "      <td>8</td>\n",
       "      <td>11</td>\n",
       "      <td>11</td>\n",
       "    </tr>\n",
       "    <tr>\n",
       "      <th>f4</th>\n",
       "      <td>12</td>\n",
       "      <td>15</td>\n",
       "      <td>15</td>\n",
       "    </tr>\n",
       "  </tbody>\n",
       "</table>\n",
       "</div>"
      ],
      "text/plain": [
       "    0   3   10\n",
       "f1   0   3   3\n",
       "f2   4   7   7\n",
       "f3   8  11  11\n",
       "f4  12  15  15"
      ]
     },
     "execution_count": 186,
     "metadata": {},
     "output_type": "execute_result"
    }
   ],
   "source": [
    "df.reindex(columns = [0, 3, 10], method = \"ffill\")"
   ]
  },
  {
   "cell_type": "code",
   "execution_count": 187,
   "id": "3785b60a",
   "metadata": {},
   "outputs": [
    {
     "data": {
      "text/html": [
       "<div>\n",
       "<style scoped>\n",
       "    .dataframe tbody tr th:only-of-type {\n",
       "        vertical-align: middle;\n",
       "    }\n",
       "\n",
       "    .dataframe tbody tr th {\n",
       "        vertical-align: top;\n",
       "    }\n",
       "\n",
       "    .dataframe thead th {\n",
       "        text-align: right;\n",
       "    }\n",
       "</style>\n",
       "<table border=\"1\" class=\"dataframe\">\n",
       "  <thead>\n",
       "    <tr style=\"text-align: right;\">\n",
       "      <th></th>\n",
       "      <th>index</th>\n",
       "      <th>0</th>\n",
       "      <th>1</th>\n",
       "      <th>2</th>\n",
       "      <th>3</th>\n",
       "    </tr>\n",
       "  </thead>\n",
       "  <tbody>\n",
       "    <tr>\n",
       "      <th>0</th>\n",
       "      <td>f1</td>\n",
       "      <td>0</td>\n",
       "      <td>1</td>\n",
       "      <td>2</td>\n",
       "      <td>3</td>\n",
       "    </tr>\n",
       "    <tr>\n",
       "      <th>1</th>\n",
       "      <td>f2</td>\n",
       "      <td>4</td>\n",
       "      <td>5</td>\n",
       "      <td>6</td>\n",
       "      <td>7</td>\n",
       "    </tr>\n",
       "    <tr>\n",
       "      <th>2</th>\n",
       "      <td>f3</td>\n",
       "      <td>8</td>\n",
       "      <td>9</td>\n",
       "      <td>10</td>\n",
       "      <td>11</td>\n",
       "    </tr>\n",
       "    <tr>\n",
       "      <th>3</th>\n",
       "      <td>f4</td>\n",
       "      <td>12</td>\n",
       "      <td>13</td>\n",
       "      <td>14</td>\n",
       "      <td>15</td>\n",
       "    </tr>\n",
       "  </tbody>\n",
       "</table>\n",
       "</div>"
      ],
      "text/plain": [
       "  index   0   1   2   3\n",
       "0    f1   0   1   2   3\n",
       "1    f2   4   5   6   7\n",
       "2    f3   8   9  10  11\n",
       "3    f4  12  13  14  15"
      ]
     },
     "execution_count": 187,
     "metadata": {},
     "output_type": "execute_result"
    }
   ],
   "source": [
    "#pasar el index a columna\n",
    "df.reset_index()"
   ]
  },
  {
   "cell_type": "code",
   "execution_count": 188,
   "id": "a77d4e87",
   "metadata": {},
   "outputs": [
    {
     "data": {
      "text/html": [
       "<div>\n",
       "<style scoped>\n",
       "    .dataframe tbody tr th:only-of-type {\n",
       "        vertical-align: middle;\n",
       "    }\n",
       "\n",
       "    .dataframe tbody tr th {\n",
       "        vertical-align: top;\n",
       "    }\n",
       "\n",
       "    .dataframe thead th {\n",
       "        text-align: right;\n",
       "    }\n",
       "</style>\n",
       "<table border=\"1\" class=\"dataframe\">\n",
       "  <thead>\n",
       "    <tr style=\"text-align: right;\">\n",
       "      <th></th>\n",
       "      <th>0</th>\n",
       "      <th>1</th>\n",
       "      <th>2</th>\n",
       "    </tr>\n",
       "    <tr>\n",
       "      <th>3</th>\n",
       "      <th></th>\n",
       "      <th></th>\n",
       "      <th></th>\n",
       "    </tr>\n",
       "  </thead>\n",
       "  <tbody>\n",
       "    <tr>\n",
       "      <th>3</th>\n",
       "      <td>0</td>\n",
       "      <td>1</td>\n",
       "      <td>2</td>\n",
       "    </tr>\n",
       "    <tr>\n",
       "      <th>7</th>\n",
       "      <td>4</td>\n",
       "      <td>5</td>\n",
       "      <td>6</td>\n",
       "    </tr>\n",
       "    <tr>\n",
       "      <th>11</th>\n",
       "      <td>8</td>\n",
       "      <td>9</td>\n",
       "      <td>10</td>\n",
       "    </tr>\n",
       "    <tr>\n",
       "      <th>15</th>\n",
       "      <td>12</td>\n",
       "      <td>13</td>\n",
       "      <td>14</td>\n",
       "    </tr>\n",
       "  </tbody>\n",
       "</table>\n",
       "</div>"
      ],
      "text/plain": [
       "     0   1   2\n",
       "3             \n",
       "3    0   1   2\n",
       "7    4   5   6\n",
       "11   8   9  10\n",
       "15  12  13  14"
      ]
     },
     "execution_count": 188,
     "metadata": {},
     "output_type": "execute_result"
    }
   ],
   "source": [
    "#convertir la columna 3 en index\n",
    "df.set_index([3])"
   ]
  },
  {
   "cell_type": "code",
   "execution_count": 189,
   "id": "650df7ea",
   "metadata": {},
   "outputs": [],
   "source": [
    "#pivot tables"
   ]
  },
  {
   "cell_type": "code",
   "execution_count": 190,
   "id": "6cafb1b1",
   "metadata": {},
   "outputs": [
    {
     "name": "stdout",
     "output_type": "stream",
     "text": [
      "    Año  Valoracion         Director                  Titulo\n",
      "0  2014        6.00    Grant Edwards                Godzilla\n",
      "1  2014         NaN    Peter Jackson           El Hobbit III\n",
      "2  2013        8.75  Martin Scorsese  El Lobo de Wall Street\n",
      "3  2013         NaN   Alfonso Cuaron                 Gravity\n",
      "4  2011        8.90    Peter Jackson        Lord of the ring\n"
     ]
    }
   ],
   "source": [
    "peliculas = pd.DataFrame({\"Año\": [2014, 2014, 2013, 2013, 2011],\n",
    "                         \"Valoracion\": [6, None, 8.75, None, 8.9],\n",
    "                         \"Director\": [\"Grant Edwards\", \"Peter Jackson\", \"Martin Scorsese\", \"Alfonso Cuaron\", \"Peter Jackson\"],\n",
    "                         \"Titulo\": [\"Godzilla\", \"El Hobbit III\", \"El Lobo de Wall Street\", \"Gravity\", \"Lord of the ring\"]}\n",
    ")\n",
    "print(peliculas)"
   ]
  },
  {
   "cell_type": "code",
   "execution_count": 191,
   "id": "7b573b07",
   "metadata": {},
   "outputs": [
    {
     "data": {
      "text/html": [
       "<div>\n",
       "<style scoped>\n",
       "    .dataframe tbody tr th:only-of-type {\n",
       "        vertical-align: middle;\n",
       "    }\n",
       "\n",
       "    .dataframe tbody tr th {\n",
       "        vertical-align: top;\n",
       "    }\n",
       "\n",
       "    .dataframe thead th {\n",
       "        text-align: right;\n",
       "    }\n",
       "</style>\n",
       "<table border=\"1\" class=\"dataframe\">\n",
       "  <thead>\n",
       "    <tr style=\"text-align: right;\">\n",
       "      <th>Director</th>\n",
       "      <th>Alfonso Cuaron</th>\n",
       "      <th>Grant Edwards</th>\n",
       "      <th>Martin Scorsese</th>\n",
       "      <th>Peter Jackson</th>\n",
       "    </tr>\n",
       "    <tr>\n",
       "      <th>Año</th>\n",
       "      <th></th>\n",
       "      <th></th>\n",
       "      <th></th>\n",
       "      <th></th>\n",
       "    </tr>\n",
       "  </thead>\n",
       "  <tbody>\n",
       "    <tr>\n",
       "      <th>2011</th>\n",
       "      <td>NaN</td>\n",
       "      <td>NaN</td>\n",
       "      <td>NaN</td>\n",
       "      <td>Lord of the ring</td>\n",
       "    </tr>\n",
       "    <tr>\n",
       "      <th>2013</th>\n",
       "      <td>Gravity</td>\n",
       "      <td>NaN</td>\n",
       "      <td>El Lobo de Wall Street</td>\n",
       "      <td>NaN</td>\n",
       "    </tr>\n",
       "    <tr>\n",
       "      <th>2014</th>\n",
       "      <td>NaN</td>\n",
       "      <td>Godzilla</td>\n",
       "      <td>NaN</td>\n",
       "      <td>El Hobbit III</td>\n",
       "    </tr>\n",
       "  </tbody>\n",
       "</table>\n",
       "</div>"
      ],
      "text/plain": [
       "Director Alfonso Cuaron Grant Edwards         Martin Scorsese  \\\n",
       "Año                                                             \n",
       "2011                NaN           NaN                     NaN   \n",
       "2013            Gravity           NaN  El Lobo de Wall Street   \n",
       "2014                NaN      Godzilla                     NaN   \n",
       "\n",
       "Director     Peter Jackson  \n",
       "Año                         \n",
       "2011      Lord of the ring  \n",
       "2013                   NaN  \n",
       "2014         El Hobbit III  "
      ]
     },
     "execution_count": 191,
     "metadata": {},
     "output_type": "execute_result"
    }
   ],
   "source": [
    "#Filas: Año, Columnas: Director, Valores: Titulo\n",
    "peliculas.pivot(\"Año\", \"Director\", \"Titulo\")\n",
    "#se creo una tabla que muestra el titulo de la pelicula que saco cada director en cada año"
   ]
  },
  {
   "cell_type": "code",
   "execution_count": 192,
   "id": "e7c7f34f",
   "metadata": {},
   "outputs": [
    {
     "name": "stdout",
     "output_type": "stream",
     "text": [
      "    Año  Valoracion         Director                  Titulo\n",
      "0  2014        6.00    Grant Edwards                Godzilla\n",
      "1  2014         NaN    Peter Jackson           El Hobbit III\n",
      "2  2013        8.75  Martin Scorsese  El Lobo de Wall Street\n",
      "3  2013         NaN   Alfonso Cuaron                 Gravity\n",
      "4  2014        8.90    Peter Jackson        Lord of the ring\n"
     ]
    }
   ],
   "source": [
    "#las peliculas cuyo año son 2011 las cambiamos por 2014\n",
    "peliculas.loc[peliculas[\"Año\"] == 2011, \"Año\"] = 2014\n",
    "print(peliculas)"
   ]
  },
  {
   "cell_type": "code",
   "execution_count": 193,
   "id": "7a98cda5",
   "metadata": {},
   "outputs": [
    {
     "name": "stdout",
     "output_type": "stream",
     "text": [
      "    Año  Valoracion  Presupuesto         Director                  Titulo\n",
      "0  2014        6.00        160.0    Grant Edwards                Godzilla\n",
      "1  2014         NaN        250.0    Peter Jackson           El Hobbit III\n",
      "2  2013        8.75        100.0  Martin Scorsese  El Lobo de Wall Street\n",
      "3  2013         NaN          NaN   Alfonso Cuaron                 Gravity\n",
      "4  2011        8.90          NaN    Peter Jackson        Lord of the ring\n"
     ]
    }
   ],
   "source": [
    "peliculas = pd.DataFrame({\"Año\": [2014, 2014, 2013, 2013, 2011],\n",
    "                         \"Valoracion\": [6, None, 8.75, None, 8.9],\n",
    "                         \"Presupuesto\": [160, 250, 100, None, None],\n",
    "                         \"Director\": [\"Grant Edwards\", \"Peter Jackson\", \"Martin Scorsese\", \"Alfonso Cuaron\", \"Peter Jackson\"],\n",
    "                         \"Titulo\": [\"Godzilla\", \"El Hobbit III\", \"El Lobo de Wall Street\", \"Gravity\", \"Lord of the ring\"]}\n",
    ")\n",
    "print(peliculas)"
   ]
  },
  {
   "cell_type": "code",
   "execution_count": 194,
   "id": "248cd69e",
   "metadata": {},
   "outputs": [
    {
     "data": {
      "text/html": [
       "<div>\n",
       "<style scoped>\n",
       "    .dataframe tbody tr th:only-of-type {\n",
       "        vertical-align: middle;\n",
       "    }\n",
       "\n",
       "    .dataframe tbody tr th {\n",
       "        vertical-align: top;\n",
       "    }\n",
       "\n",
       "    .dataframe thead th {\n",
       "        text-align: right;\n",
       "    }\n",
       "</style>\n",
       "<table border=\"1\" class=\"dataframe\">\n",
       "  <thead>\n",
       "    <tr style=\"text-align: right;\">\n",
       "      <th>Año</th>\n",
       "      <th>2011</th>\n",
       "      <th>2013</th>\n",
       "      <th>2014</th>\n",
       "    </tr>\n",
       "    <tr>\n",
       "      <th>Director</th>\n",
       "      <th></th>\n",
       "      <th></th>\n",
       "      <th></th>\n",
       "    </tr>\n",
       "  </thead>\n",
       "  <tbody>\n",
       "    <tr>\n",
       "      <th>Alfonso Cuaron</th>\n",
       "      <td>NaN</td>\n",
       "      <td>0.0</td>\n",
       "      <td>NaN</td>\n",
       "    </tr>\n",
       "    <tr>\n",
       "      <th>Grant Edwards</th>\n",
       "      <td>NaN</td>\n",
       "      <td>NaN</td>\n",
       "      <td>160.0</td>\n",
       "    </tr>\n",
       "    <tr>\n",
       "      <th>Martin Scorsese</th>\n",
       "      <td>NaN</td>\n",
       "      <td>100.0</td>\n",
       "      <td>NaN</td>\n",
       "    </tr>\n",
       "    <tr>\n",
       "      <th>Peter Jackson</th>\n",
       "      <td>0.0</td>\n",
       "      <td>NaN</td>\n",
       "      <td>250.0</td>\n",
       "    </tr>\n",
       "  </tbody>\n",
       "</table>\n",
       "</div>"
      ],
      "text/plain": [
       "Año              2011   2013   2014\n",
       "Director                           \n",
       "Alfonso Cuaron    NaN    0.0    NaN\n",
       "Grant Edwards     NaN    NaN  160.0\n",
       "Martin Scorsese   NaN  100.0    NaN\n",
       "Peter Jackson     0.0    NaN  250.0"
      ]
     },
     "execution_count": 194,
     "metadata": {},
     "output_type": "execute_result"
    }
   ],
   "source": [
    "#Filas: Año, Columnas: Director, Valores: Titulo, Agregado: suma\n",
    "pd.pivot_table(peliculas, values = \"Presupuesto\", index = [\"Director\"], columns = [\"Año\"], aggfunc = np.sum)\n",
    "#aca creamos una tabla donde se muestra cuanto gano cada director en cada año y si gano dinero de dos peliculas o mas se suman"
   ]
  },
  {
   "cell_type": "code",
   "execution_count": 199,
   "id": "6e4b8863",
   "metadata": {},
   "outputs": [
    {
     "name": "stdout",
     "output_type": "stream",
     "text": [
      "a    10\n",
      "b    11\n",
      "c    12\n",
      "d    13\n",
      "e    14\n",
      "f    15\n",
      "g    16\n",
      "h    17\n",
      "i    18\n",
      "j    19\n",
      "dtype: int32\n"
     ]
    }
   ],
   "source": [
    "serie = pd.Series(np.arange(10, 20), index = [\"a\", \"b\", \"c\", \"d\", \"e\", \"f\", \"g\", \"h\", \"i\", \"j\"])\n",
    "print(serie)"
   ]
  },
  {
   "cell_type": "code",
   "execution_count": 196,
   "id": "1549ea71",
   "metadata": {},
   "outputs": [
    {
     "name": "stdout",
     "output_type": "stream",
     "text": [
      "    c1  c2  c3  c4\n",
      "f1   0   1   2   3\n",
      "f2   4   5   6   7\n",
      "f3   8   9  10  11\n",
      "f4  12  13  14  15\n"
     ]
    }
   ],
   "source": [
    "dataFrame = pd.DataFrame(np.arange(16).reshape(4, 4), index = [\"f1\", \"f2\", \"f3\", \"f4\"], columns = [\"c1\", \"c2\", \"c3\", \"c4\"])\n",
    "print(dataFrame)"
   ]
  },
  {
   "cell_type": "code",
   "execution_count": 201,
   "id": "153716e1",
   "metadata": {},
   "outputs": [
    {
     "name": "stdout",
     "output_type": "stream",
     "text": [
      "b    11\n",
      "c    12\n",
      "d    13\n",
      "e    14\n",
      "f    15\n",
      "g    16\n",
      "h    17\n",
      "i    18\n",
      "j    19\n",
      "dtype: int32\n"
     ]
    }
   ],
   "source": [
    "print(serie.drop(\"a\"))"
   ]
  },
  {
   "cell_type": "code",
   "execution_count": 203,
   "id": "d4bff80d",
   "metadata": {},
   "outputs": [
    {
     "name": "stdout",
     "output_type": "stream",
     "text": [
      "    c1  c2  c3  c4\n",
      "f2   4   5   6   7\n",
      "f3   8   9  10  11\n",
      "f4  12  13  14  15\n"
     ]
    }
   ],
   "source": [
    "print(dataFrame.drop(\"f1\"))"
   ]
  },
  {
   "cell_type": "code",
   "execution_count": 206,
   "id": "20876e9d",
   "metadata": {},
   "outputs": [
    {
     "name": "stdout",
     "output_type": "stream",
     "text": [
      "    c1  c3  c4\n",
      "f1   0   2   3\n",
      "f2   4   6   7\n",
      "f3   8  10  11\n",
      "f4  12  14  15\n"
     ]
    }
   ],
   "source": [
    "print(dataFrame.drop(\"c2\", axis = 1))"
   ]
  },
  {
   "cell_type": "code",
   "execution_count": 207,
   "id": "a21767f8",
   "metadata": {},
   "outputs": [],
   "source": [
    "#aritmetica"
   ]
  },
  {
   "cell_type": "code",
   "execution_count": 208,
   "id": "11e1e67e",
   "metadata": {},
   "outputs": [
    {
     "name": "stdout",
     "output_type": "stream",
     "text": [
      "a    1\n",
      "b    2\n",
      "c    3\n",
      "d    4\n",
      "dtype: int64\n",
      "c    5\n",
      "d    6\n",
      "e    7\n",
      "f    8\n",
      "dtype: int64\n"
     ]
    }
   ],
   "source": [
    "serie1 = pd.Series([1, 2, 3, 4], index = [\"a\", \"b\", \"c\", \"d\"])\n",
    "print(serie1)\n",
    "serie2 = pd.Series([5, 6, 7, 8], index = [\"c\", \"d\", \"e\", \"f\"])\n",
    "print(serie2)"
   ]
  },
  {
   "cell_type": "code",
   "execution_count": 209,
   "id": "c037453b",
   "metadata": {},
   "outputs": [
    {
     "data": {
      "text/plain": [
       "a     NaN\n",
       "b     NaN\n",
       "c     8.0\n",
       "d    10.0\n",
       "e     NaN\n",
       "f     NaN\n",
       "dtype: float64"
      ]
     },
     "execution_count": 209,
     "metadata": {},
     "output_type": "execute_result"
    }
   ],
   "source": [
    "#suma\n",
    "serie1 + serie2"
   ]
  },
  {
   "cell_type": "code",
   "execution_count": 210,
   "id": "900a33a0",
   "metadata": {},
   "outputs": [
    {
     "data": {
      "text/plain": [
       "a     NaN\n",
       "b     NaN\n",
       "c     8.0\n",
       "d    10.0\n",
       "e     NaN\n",
       "f     NaN\n",
       "dtype: float64"
      ]
     },
     "execution_count": 210,
     "metadata": {},
     "output_type": "execute_result"
    }
   ],
   "source": [
    "serie1.add(serie2)"
   ]
  },
  {
   "cell_type": "code",
   "execution_count": 211,
   "id": "6be474ec",
   "metadata": {},
   "outputs": [
    {
     "data": {
      "text/plain": [
       "a     1.0\n",
       "b     2.0\n",
       "c     8.0\n",
       "d    10.0\n",
       "e     7.0\n",
       "f     8.0\n",
       "dtype: float64"
      ]
     },
     "execution_count": 211,
     "metadata": {},
     "output_type": "execute_result"
    }
   ],
   "source": [
    "serie1.add(serie2, fill_value = 0)"
   ]
  },
  {
   "cell_type": "code",
   "execution_count": 212,
   "id": "6fc813f2",
   "metadata": {},
   "outputs": [
    {
     "data": {
      "text/plain": [
       "a    1.0\n",
       "b    2.0\n",
       "c   -2.0\n",
       "d   -2.0\n",
       "e   -7.0\n",
       "f   -8.0\n",
       "dtype: float64"
      ]
     },
     "execution_count": 212,
     "metadata": {},
     "output_type": "execute_result"
    }
   ],
   "source": [
    "serie1.sub(serie2, fill_value = 0)"
   ]
  },
  {
   "cell_type": "code",
   "execution_count": 213,
   "id": "191e844f",
   "metadata": {},
   "outputs": [
    {
     "data": {
      "text/plain": [
       "a     0.0\n",
       "b     0.0\n",
       "c    15.0\n",
       "d    24.0\n",
       "e     0.0\n",
       "f     0.0\n",
       "dtype: float64"
      ]
     },
     "execution_count": 213,
     "metadata": {},
     "output_type": "execute_result"
    }
   ],
   "source": [
    "serie1.mul(serie2, fill_value = 0)"
   ]
  },
  {
   "cell_type": "code",
   "execution_count": 214,
   "id": "f3e92c60",
   "metadata": {},
   "outputs": [
    {
     "name": "stdout",
     "output_type": "stream",
     "text": [
      "d    3\n",
      "a    2\n",
      "c    1\n",
      "b    4\n",
      "dtype: int64\n"
     ]
    }
   ],
   "source": [
    "sr = pd.Series([3, 2, 1, 4], index = [\"d\", \"a\", \"c\", \"b\"])\n",
    "print(sr)"
   ]
  },
  {
   "cell_type": "code",
   "execution_count": 217,
   "id": "009cf689",
   "metadata": {},
   "outputs": [
    {
     "data": {
      "text/plain": [
       "a    2\n",
       "b    4\n",
       "c    1\n",
       "d    3\n",
       "dtype: int64"
      ]
     },
     "execution_count": 217,
     "metadata": {},
     "output_type": "execute_result"
    }
   ],
   "source": [
    "sr.sort_index()"
   ]
  },
  {
   "cell_type": "code",
   "execution_count": 218,
   "id": "f171384c",
   "metadata": {},
   "outputs": [
    {
     "data": {
      "text/plain": [
       "d    3\n",
       "c    1\n",
       "b    4\n",
       "a    2\n",
       "dtype: int64"
      ]
     },
     "execution_count": 218,
     "metadata": {},
     "output_type": "execute_result"
    }
   ],
   "source": [
    "sr.sort_index(ascending = False)"
   ]
  },
  {
   "cell_type": "code",
   "execution_count": 219,
   "id": "29c34611",
   "metadata": {},
   "outputs": [
    {
     "data": {
      "text/plain": [
       "c    1\n",
       "a    2\n",
       "d    3\n",
       "b    4\n",
       "dtype: int64"
      ]
     },
     "execution_count": 219,
     "metadata": {},
     "output_type": "execute_result"
    }
   ],
   "source": [
    "sr.sort_values()"
   ]
  },
  {
   "cell_type": "code",
   "execution_count": 221,
   "id": "d9b4290d",
   "metadata": {},
   "outputs": [
    {
     "name": "stdout",
     "output_type": "stream",
     "text": [
      "    c3  c1  c4  c2\n",
      "f3   0   1   2   3\n",
      "f1   4   5   6   7\n",
      "f4   8   9  10  11\n",
      "f2  12  13  14  15\n"
     ]
    }
   ],
   "source": [
    "dataFrame = pd.DataFrame(np.arange(16).reshape(4, 4), index = [\"f3\", \"f1\", \"f4\", \"f2\"], columns = [\"c3\", \"c1\", \"c4\", \"c2\"])\n",
    "print(dataFrame)"
   ]
  },
  {
   "cell_type": "code",
   "execution_count": 222,
   "id": "dd8149ce",
   "metadata": {},
   "outputs": [
    {
     "data": {
      "text/html": [
       "<div>\n",
       "<style scoped>\n",
       "    .dataframe tbody tr th:only-of-type {\n",
       "        vertical-align: middle;\n",
       "    }\n",
       "\n",
       "    .dataframe tbody tr th {\n",
       "        vertical-align: top;\n",
       "    }\n",
       "\n",
       "    .dataframe thead th {\n",
       "        text-align: right;\n",
       "    }\n",
       "</style>\n",
       "<table border=\"1\" class=\"dataframe\">\n",
       "  <thead>\n",
       "    <tr style=\"text-align: right;\">\n",
       "      <th></th>\n",
       "      <th>c3</th>\n",
       "      <th>c1</th>\n",
       "      <th>c4</th>\n",
       "      <th>c2</th>\n",
       "    </tr>\n",
       "  </thead>\n",
       "  <tbody>\n",
       "    <tr>\n",
       "      <th>f1</th>\n",
       "      <td>4</td>\n",
       "      <td>5</td>\n",
       "      <td>6</td>\n",
       "      <td>7</td>\n",
       "    </tr>\n",
       "    <tr>\n",
       "      <th>f2</th>\n",
       "      <td>12</td>\n",
       "      <td>13</td>\n",
       "      <td>14</td>\n",
       "      <td>15</td>\n",
       "    </tr>\n",
       "    <tr>\n",
       "      <th>f3</th>\n",
       "      <td>0</td>\n",
       "      <td>1</td>\n",
       "      <td>2</td>\n",
       "      <td>3</td>\n",
       "    </tr>\n",
       "    <tr>\n",
       "      <th>f4</th>\n",
       "      <td>8</td>\n",
       "      <td>9</td>\n",
       "      <td>10</td>\n",
       "      <td>11</td>\n",
       "    </tr>\n",
       "  </tbody>\n",
       "</table>\n",
       "</div>"
      ],
      "text/plain": [
       "    c3  c1  c4  c2\n",
       "f1   4   5   6   7\n",
       "f2  12  13  14  15\n",
       "f3   0   1   2   3\n",
       "f4   8   9  10  11"
      ]
     },
     "execution_count": 222,
     "metadata": {},
     "output_type": "execute_result"
    }
   ],
   "source": [
    "dataFrame.sort_index()"
   ]
  },
  {
   "cell_type": "code",
   "execution_count": 223,
   "id": "16ff4c30",
   "metadata": {},
   "outputs": [
    {
     "data": {
      "text/html": [
       "<div>\n",
       "<style scoped>\n",
       "    .dataframe tbody tr th:only-of-type {\n",
       "        vertical-align: middle;\n",
       "    }\n",
       "\n",
       "    .dataframe tbody tr th {\n",
       "        vertical-align: top;\n",
       "    }\n",
       "\n",
       "    .dataframe thead th {\n",
       "        text-align: right;\n",
       "    }\n",
       "</style>\n",
       "<table border=\"1\" class=\"dataframe\">\n",
       "  <thead>\n",
       "    <tr style=\"text-align: right;\">\n",
       "      <th></th>\n",
       "      <th>c3</th>\n",
       "      <th>c1</th>\n",
       "      <th>c4</th>\n",
       "      <th>c2</th>\n",
       "    </tr>\n",
       "  </thead>\n",
       "  <tbody>\n",
       "    <tr>\n",
       "      <th>f4</th>\n",
       "      <td>8</td>\n",
       "      <td>9</td>\n",
       "      <td>10</td>\n",
       "      <td>11</td>\n",
       "    </tr>\n",
       "    <tr>\n",
       "      <th>f3</th>\n",
       "      <td>0</td>\n",
       "      <td>1</td>\n",
       "      <td>2</td>\n",
       "      <td>3</td>\n",
       "    </tr>\n",
       "    <tr>\n",
       "      <th>f2</th>\n",
       "      <td>12</td>\n",
       "      <td>13</td>\n",
       "      <td>14</td>\n",
       "      <td>15</td>\n",
       "    </tr>\n",
       "    <tr>\n",
       "      <th>f1</th>\n",
       "      <td>4</td>\n",
       "      <td>5</td>\n",
       "      <td>6</td>\n",
       "      <td>7</td>\n",
       "    </tr>\n",
       "  </tbody>\n",
       "</table>\n",
       "</div>"
      ],
      "text/plain": [
       "    c3  c1  c4  c2\n",
       "f4   8   9  10  11\n",
       "f3   0   1   2   3\n",
       "f2  12  13  14  15\n",
       "f1   4   5   6   7"
      ]
     },
     "execution_count": 223,
     "metadata": {},
     "output_type": "execute_result"
    }
   ],
   "source": [
    "dataFrame.sort_index(ascending = False)"
   ]
  },
  {
   "cell_type": "code",
   "execution_count": 226,
   "id": "721da0c1",
   "metadata": {},
   "outputs": [
    {
     "data": {
      "text/html": [
       "<div>\n",
       "<style scoped>\n",
       "    .dataframe tbody tr th:only-of-type {\n",
       "        vertical-align: middle;\n",
       "    }\n",
       "\n",
       "    .dataframe tbody tr th {\n",
       "        vertical-align: top;\n",
       "    }\n",
       "\n",
       "    .dataframe thead th {\n",
       "        text-align: right;\n",
       "    }\n",
       "</style>\n",
       "<table border=\"1\" class=\"dataframe\">\n",
       "  <thead>\n",
       "    <tr style=\"text-align: right;\">\n",
       "      <th></th>\n",
       "      <th>c3</th>\n",
       "      <th>c1</th>\n",
       "      <th>c4</th>\n",
       "      <th>c2</th>\n",
       "    </tr>\n",
       "  </thead>\n",
       "  <tbody>\n",
       "    <tr>\n",
       "      <th>f3</th>\n",
       "      <td>0</td>\n",
       "      <td>1</td>\n",
       "      <td>2</td>\n",
       "      <td>3</td>\n",
       "    </tr>\n",
       "    <tr>\n",
       "      <th>f1</th>\n",
       "      <td>4</td>\n",
       "      <td>5</td>\n",
       "      <td>6</td>\n",
       "      <td>7</td>\n",
       "    </tr>\n",
       "    <tr>\n",
       "      <th>f4</th>\n",
       "      <td>8</td>\n",
       "      <td>9</td>\n",
       "      <td>10</td>\n",
       "      <td>11</td>\n",
       "    </tr>\n",
       "    <tr>\n",
       "      <th>f2</th>\n",
       "      <td>12</td>\n",
       "      <td>13</td>\n",
       "      <td>14</td>\n",
       "      <td>15</td>\n",
       "    </tr>\n",
       "  </tbody>\n",
       "</table>\n",
       "</div>"
      ],
      "text/plain": [
       "    c3  c1  c4  c2\n",
       "f3   0   1   2   3\n",
       "f1   4   5   6   7\n",
       "f4   8   9  10  11\n",
       "f2  12  13  14  15"
      ]
     },
     "execution_count": 226,
     "metadata": {},
     "output_type": "execute_result"
    }
   ],
   "source": [
    "dataFrame.sort_values([\"f1\"], axis = 1)"
   ]
  },
  {
   "cell_type": "code",
   "execution_count": 227,
   "id": "90ba0d52",
   "metadata": {},
   "outputs": [
    {
     "data": {
      "text/html": [
       "<div>\n",
       "<style scoped>\n",
       "    .dataframe tbody tr th:only-of-type {\n",
       "        vertical-align: middle;\n",
       "    }\n",
       "\n",
       "    .dataframe tbody tr th {\n",
       "        vertical-align: top;\n",
       "    }\n",
       "\n",
       "    .dataframe thead th {\n",
       "        text-align: right;\n",
       "    }\n",
       "</style>\n",
       "<table border=\"1\" class=\"dataframe\">\n",
       "  <thead>\n",
       "    <tr style=\"text-align: right;\">\n",
       "      <th></th>\n",
       "      <th>c3</th>\n",
       "      <th>c1</th>\n",
       "      <th>c4</th>\n",
       "      <th>c2</th>\n",
       "    </tr>\n",
       "  </thead>\n",
       "  <tbody>\n",
       "    <tr>\n",
       "      <th>f3</th>\n",
       "      <td>0</td>\n",
       "      <td>1</td>\n",
       "      <td>2</td>\n",
       "      <td>3</td>\n",
       "    </tr>\n",
       "    <tr>\n",
       "      <th>f1</th>\n",
       "      <td>4</td>\n",
       "      <td>5</td>\n",
       "      <td>6</td>\n",
       "      <td>7</td>\n",
       "    </tr>\n",
       "    <tr>\n",
       "      <th>f4</th>\n",
       "      <td>8</td>\n",
       "      <td>9</td>\n",
       "      <td>10</td>\n",
       "      <td>11</td>\n",
       "    </tr>\n",
       "    <tr>\n",
       "      <th>f2</th>\n",
       "      <td>12</td>\n",
       "      <td>13</td>\n",
       "      <td>14</td>\n",
       "      <td>15</td>\n",
       "    </tr>\n",
       "  </tbody>\n",
       "</table>\n",
       "</div>"
      ],
      "text/plain": [
       "    c3  c1  c4  c2\n",
       "f3   0   1   2   3\n",
       "f1   4   5   6   7\n",
       "f4   8   9  10  11\n",
       "f2  12  13  14  15"
      ]
     },
     "execution_count": 227,
     "metadata": {},
     "output_type": "execute_result"
    }
   ],
   "source": [
    "dataFrame.sort_values([\"c1\"])"
   ]
  },
  {
   "cell_type": "code",
   "execution_count": 228,
   "id": "93f125e8",
   "metadata": {},
   "outputs": [
    {
     "name": "stdout",
     "output_type": "stream",
     "text": [
      "0      0\n",
      "1      1\n",
      "2      2\n",
      "3      3\n",
      "4      4\n",
      "      ..\n",
      "95    95\n",
      "96    96\n",
      "97    97\n",
      "98    98\n",
      "99    99\n",
      "Length: 100, dtype: int32\n"
     ]
    }
   ],
   "source": [
    "serie = pd.Series(np.arange(100))\n",
    "print(serie)"
   ]
  },
  {
   "cell_type": "code",
   "execution_count": 236,
   "id": "f6d26bc5",
   "metadata": {
    "scrolled": true
   },
   "outputs": [
    {
     "name": "stdout",
     "output_type": "stream",
     "text": [
      "    0   1   2   3   4   5   6   7   8   9\n",
      "0   0   1   2   3   4   5   6   7   8   9\n",
      "1  10  11  12  13  14  15  16  17  18  19\n",
      "2  20  21  22  23  24  25  26  27  28  29\n",
      "3  30  31  32  33  34  35  36  37  38  39\n",
      "4  40  41  42  43  44  45  46  47  48  49\n",
      "5  50  51  52  53  54  55  56  57  58  59\n",
      "6  60  61  62  63  64  65  66  67  68  69\n",
      "7  70  71  72  73  74  75  76  77  78  79\n",
      "8  80  81  82  83  84  85  86  87  88  89\n",
      "9  90  91  92  93  94  95  96  97  98  99\n"
     ]
    }
   ],
   "source": [
    "df = pd.DataFrame(np.arange(100).reshape(10, 10))\n",
    "print(df)"
   ]
  },
  {
   "cell_type": "code",
   "execution_count": 237,
   "id": "05794df6",
   "metadata": {},
   "outputs": [
    {
     "data": {
      "text/plain": [
       "0    0\n",
       "1    1\n",
       "2    2\n",
       "3    3\n",
       "4    4\n",
       "dtype: int32"
      ]
     },
     "execution_count": 237,
     "metadata": {},
     "output_type": "execute_result"
    }
   ],
   "source": [
    "serie.head()"
   ]
  },
  {
   "cell_type": "code",
   "execution_count": 238,
   "id": "fa04739e",
   "metadata": {},
   "outputs": [
    {
     "data": {
      "text/plain": [
       "0    0\n",
       "1    1\n",
       "2    2\n",
       "dtype: int32"
      ]
     },
     "execution_count": 238,
     "metadata": {},
     "output_type": "execute_result"
    }
   ],
   "source": [
    "serie.head(3)"
   ]
  },
  {
   "cell_type": "code",
   "execution_count": 239,
   "id": "5408899c",
   "metadata": {},
   "outputs": [
    {
     "data": {
      "text/plain": [
       "95    95\n",
       "96    96\n",
       "97    97\n",
       "98    98\n",
       "99    99\n",
       "dtype: int32"
      ]
     },
     "execution_count": 239,
     "metadata": {},
     "output_type": "execute_result"
    }
   ],
   "source": [
    "serie.tail()"
   ]
  },
  {
   "cell_type": "code",
   "execution_count": 240,
   "id": "7d7fac14",
   "metadata": {},
   "outputs": [
    {
     "data": {
      "text/plain": [
       "97    97\n",
       "98    98\n",
       "99    99\n",
       "dtype: int32"
      ]
     },
     "execution_count": 240,
     "metadata": {},
     "output_type": "execute_result"
    }
   ],
   "source": [
    "serie.tail(3)"
   ]
  },
  {
   "cell_type": "code",
   "execution_count": 241,
   "id": "f4367238",
   "metadata": {},
   "outputs": [
    {
     "data": {
      "text/html": [
       "<div>\n",
       "<style scoped>\n",
       "    .dataframe tbody tr th:only-of-type {\n",
       "        vertical-align: middle;\n",
       "    }\n",
       "\n",
       "    .dataframe tbody tr th {\n",
       "        vertical-align: top;\n",
       "    }\n",
       "\n",
       "    .dataframe thead th {\n",
       "        text-align: right;\n",
       "    }\n",
       "</style>\n",
       "<table border=\"1\" class=\"dataframe\">\n",
       "  <thead>\n",
       "    <tr style=\"text-align: right;\">\n",
       "      <th></th>\n",
       "      <th>0</th>\n",
       "      <th>1</th>\n",
       "      <th>2</th>\n",
       "      <th>3</th>\n",
       "      <th>4</th>\n",
       "      <th>5</th>\n",
       "      <th>6</th>\n",
       "      <th>7</th>\n",
       "      <th>8</th>\n",
       "      <th>9</th>\n",
       "    </tr>\n",
       "  </thead>\n",
       "  <tbody>\n",
       "    <tr>\n",
       "      <th>0</th>\n",
       "      <td>0</td>\n",
       "      <td>1</td>\n",
       "      <td>2</td>\n",
       "      <td>3</td>\n",
       "      <td>4</td>\n",
       "      <td>5</td>\n",
       "      <td>6</td>\n",
       "      <td>7</td>\n",
       "      <td>8</td>\n",
       "      <td>9</td>\n",
       "    </tr>\n",
       "    <tr>\n",
       "      <th>1</th>\n",
       "      <td>10</td>\n",
       "      <td>11</td>\n",
       "      <td>12</td>\n",
       "      <td>13</td>\n",
       "      <td>14</td>\n",
       "      <td>15</td>\n",
       "      <td>16</td>\n",
       "      <td>17</td>\n",
       "      <td>18</td>\n",
       "      <td>19</td>\n",
       "    </tr>\n",
       "    <tr>\n",
       "      <th>2</th>\n",
       "      <td>20</td>\n",
       "      <td>21</td>\n",
       "      <td>22</td>\n",
       "      <td>23</td>\n",
       "      <td>24</td>\n",
       "      <td>25</td>\n",
       "      <td>26</td>\n",
       "      <td>27</td>\n",
       "      <td>28</td>\n",
       "      <td>29</td>\n",
       "    </tr>\n",
       "    <tr>\n",
       "      <th>3</th>\n",
       "      <td>30</td>\n",
       "      <td>31</td>\n",
       "      <td>32</td>\n",
       "      <td>33</td>\n",
       "      <td>34</td>\n",
       "      <td>35</td>\n",
       "      <td>36</td>\n",
       "      <td>37</td>\n",
       "      <td>38</td>\n",
       "      <td>39</td>\n",
       "    </tr>\n",
       "    <tr>\n",
       "      <th>4</th>\n",
       "      <td>40</td>\n",
       "      <td>41</td>\n",
       "      <td>42</td>\n",
       "      <td>43</td>\n",
       "      <td>44</td>\n",
       "      <td>45</td>\n",
       "      <td>46</td>\n",
       "      <td>47</td>\n",
       "      <td>48</td>\n",
       "      <td>49</td>\n",
       "    </tr>\n",
       "  </tbody>\n",
       "</table>\n",
       "</div>"
      ],
      "text/plain": [
       "    0   1   2   3   4   5   6   7   8   9\n",
       "0   0   1   2   3   4   5   6   7   8   9\n",
       "1  10  11  12  13  14  15  16  17  18  19\n",
       "2  20  21  22  23  24  25  26  27  28  29\n",
       "3  30  31  32  33  34  35  36  37  38  39\n",
       "4  40  41  42  43  44  45  46  47  48  49"
      ]
     },
     "execution_count": 241,
     "metadata": {},
     "output_type": "execute_result"
    }
   ],
   "source": [
    "df.head()"
   ]
  },
  {
   "cell_type": "code",
   "execution_count": 242,
   "id": "2fd7d9fe",
   "metadata": {},
   "outputs": [
    {
     "data": {
      "text/html": [
       "<div>\n",
       "<style scoped>\n",
       "    .dataframe tbody tr th:only-of-type {\n",
       "        vertical-align: middle;\n",
       "    }\n",
       "\n",
       "    .dataframe tbody tr th {\n",
       "        vertical-align: top;\n",
       "    }\n",
       "\n",
       "    .dataframe thead th {\n",
       "        text-align: right;\n",
       "    }\n",
       "</style>\n",
       "<table border=\"1\" class=\"dataframe\">\n",
       "  <thead>\n",
       "    <tr style=\"text-align: right;\">\n",
       "      <th></th>\n",
       "      <th>0</th>\n",
       "      <th>1</th>\n",
       "      <th>2</th>\n",
       "      <th>3</th>\n",
       "      <th>4</th>\n",
       "      <th>5</th>\n",
       "      <th>6</th>\n",
       "      <th>7</th>\n",
       "      <th>8</th>\n",
       "      <th>9</th>\n",
       "    </tr>\n",
       "  </thead>\n",
       "  <tbody>\n",
       "    <tr>\n",
       "      <th>0</th>\n",
       "      <td>0</td>\n",
       "      <td>1</td>\n",
       "      <td>2</td>\n",
       "      <td>3</td>\n",
       "      <td>4</td>\n",
       "      <td>5</td>\n",
       "      <td>6</td>\n",
       "      <td>7</td>\n",
       "      <td>8</td>\n",
       "      <td>9</td>\n",
       "    </tr>\n",
       "    <tr>\n",
       "      <th>1</th>\n",
       "      <td>10</td>\n",
       "      <td>11</td>\n",
       "      <td>12</td>\n",
       "      <td>13</td>\n",
       "      <td>14</td>\n",
       "      <td>15</td>\n",
       "      <td>16</td>\n",
       "      <td>17</td>\n",
       "      <td>18</td>\n",
       "      <td>19</td>\n",
       "    </tr>\n",
       "    <tr>\n",
       "      <th>2</th>\n",
       "      <td>20</td>\n",
       "      <td>21</td>\n",
       "      <td>22</td>\n",
       "      <td>23</td>\n",
       "      <td>24</td>\n",
       "      <td>25</td>\n",
       "      <td>26</td>\n",
       "      <td>27</td>\n",
       "      <td>28</td>\n",
       "      <td>29</td>\n",
       "    </tr>\n",
       "  </tbody>\n",
       "</table>\n",
       "</div>"
      ],
      "text/plain": [
       "    0   1   2   3   4   5   6   7   8   9\n",
       "0   0   1   2   3   4   5   6   7   8   9\n",
       "1  10  11  12  13  14  15  16  17  18  19\n",
       "2  20  21  22  23  24  25  26  27  28  29"
      ]
     },
     "execution_count": 242,
     "metadata": {},
     "output_type": "execute_result"
    }
   ],
   "source": [
    "df.head(3)"
   ]
  },
  {
   "cell_type": "code",
   "execution_count": 244,
   "id": "7a627412",
   "metadata": {},
   "outputs": [
    {
     "data": {
      "text/html": [
       "<div>\n",
       "<style scoped>\n",
       "    .dataframe tbody tr th:only-of-type {\n",
       "        vertical-align: middle;\n",
       "    }\n",
       "\n",
       "    .dataframe tbody tr th {\n",
       "        vertical-align: top;\n",
       "    }\n",
       "\n",
       "    .dataframe thead th {\n",
       "        text-align: right;\n",
       "    }\n",
       "</style>\n",
       "<table border=\"1\" class=\"dataframe\">\n",
       "  <thead>\n",
       "    <tr style=\"text-align: right;\">\n",
       "      <th></th>\n",
       "      <th>0</th>\n",
       "      <th>1</th>\n",
       "      <th>2</th>\n",
       "      <th>3</th>\n",
       "      <th>4</th>\n",
       "      <th>5</th>\n",
       "      <th>6</th>\n",
       "      <th>7</th>\n",
       "      <th>8</th>\n",
       "      <th>9</th>\n",
       "    </tr>\n",
       "  </thead>\n",
       "  <tbody>\n",
       "    <tr>\n",
       "      <th>5</th>\n",
       "      <td>50</td>\n",
       "      <td>51</td>\n",
       "      <td>52</td>\n",
       "      <td>53</td>\n",
       "      <td>54</td>\n",
       "      <td>55</td>\n",
       "      <td>56</td>\n",
       "      <td>57</td>\n",
       "      <td>58</td>\n",
       "      <td>59</td>\n",
       "    </tr>\n",
       "    <tr>\n",
       "      <th>6</th>\n",
       "      <td>60</td>\n",
       "      <td>61</td>\n",
       "      <td>62</td>\n",
       "      <td>63</td>\n",
       "      <td>64</td>\n",
       "      <td>65</td>\n",
       "      <td>66</td>\n",
       "      <td>67</td>\n",
       "      <td>68</td>\n",
       "      <td>69</td>\n",
       "    </tr>\n",
       "    <tr>\n",
       "      <th>7</th>\n",
       "      <td>70</td>\n",
       "      <td>71</td>\n",
       "      <td>72</td>\n",
       "      <td>73</td>\n",
       "      <td>74</td>\n",
       "      <td>75</td>\n",
       "      <td>76</td>\n",
       "      <td>77</td>\n",
       "      <td>78</td>\n",
       "      <td>79</td>\n",
       "    </tr>\n",
       "    <tr>\n",
       "      <th>8</th>\n",
       "      <td>80</td>\n",
       "      <td>81</td>\n",
       "      <td>82</td>\n",
       "      <td>83</td>\n",
       "      <td>84</td>\n",
       "      <td>85</td>\n",
       "      <td>86</td>\n",
       "      <td>87</td>\n",
       "      <td>88</td>\n",
       "      <td>89</td>\n",
       "    </tr>\n",
       "    <tr>\n",
       "      <th>9</th>\n",
       "      <td>90</td>\n",
       "      <td>91</td>\n",
       "      <td>92</td>\n",
       "      <td>93</td>\n",
       "      <td>94</td>\n",
       "      <td>95</td>\n",
       "      <td>96</td>\n",
       "      <td>97</td>\n",
       "      <td>98</td>\n",
       "      <td>99</td>\n",
       "    </tr>\n",
       "  </tbody>\n",
       "</table>\n",
       "</div>"
      ],
      "text/plain": [
       "    0   1   2   3   4   5   6   7   8   9\n",
       "5  50  51  52  53  54  55  56  57  58  59\n",
       "6  60  61  62  63  64  65  66  67  68  69\n",
       "7  70  71  72  73  74  75  76  77  78  79\n",
       "8  80  81  82  83  84  85  86  87  88  89\n",
       "9  90  91  92  93  94  95  96  97  98  99"
      ]
     },
     "execution_count": 244,
     "metadata": {},
     "output_type": "execute_result"
    }
   ],
   "source": [
    "df.tail()"
   ]
  },
  {
   "cell_type": "code",
   "execution_count": 246,
   "id": "bc25785b",
   "metadata": {},
   "outputs": [
    {
     "data": {
      "text/html": [
       "<div>\n",
       "<style scoped>\n",
       "    .dataframe tbody tr th:only-of-type {\n",
       "        vertical-align: middle;\n",
       "    }\n",
       "\n",
       "    .dataframe tbody tr th {\n",
       "        vertical-align: top;\n",
       "    }\n",
       "\n",
       "    .dataframe thead th {\n",
       "        text-align: right;\n",
       "    }\n",
       "</style>\n",
       "<table border=\"1\" class=\"dataframe\">\n",
       "  <thead>\n",
       "    <tr style=\"text-align: right;\">\n",
       "      <th></th>\n",
       "      <th>0</th>\n",
       "      <th>1</th>\n",
       "      <th>2</th>\n",
       "      <th>3</th>\n",
       "      <th>4</th>\n",
       "      <th>5</th>\n",
       "      <th>6</th>\n",
       "      <th>7</th>\n",
       "      <th>8</th>\n",
       "      <th>9</th>\n",
       "    </tr>\n",
       "  </thead>\n",
       "  <tbody>\n",
       "    <tr>\n",
       "      <th>7</th>\n",
       "      <td>70</td>\n",
       "      <td>71</td>\n",
       "      <td>72</td>\n",
       "      <td>73</td>\n",
       "      <td>74</td>\n",
       "      <td>75</td>\n",
       "      <td>76</td>\n",
       "      <td>77</td>\n",
       "      <td>78</td>\n",
       "      <td>79</td>\n",
       "    </tr>\n",
       "    <tr>\n",
       "      <th>8</th>\n",
       "      <td>80</td>\n",
       "      <td>81</td>\n",
       "      <td>82</td>\n",
       "      <td>83</td>\n",
       "      <td>84</td>\n",
       "      <td>85</td>\n",
       "      <td>86</td>\n",
       "      <td>87</td>\n",
       "      <td>88</td>\n",
       "      <td>89</td>\n",
       "    </tr>\n",
       "    <tr>\n",
       "      <th>9</th>\n",
       "      <td>90</td>\n",
       "      <td>91</td>\n",
       "      <td>92</td>\n",
       "      <td>93</td>\n",
       "      <td>94</td>\n",
       "      <td>95</td>\n",
       "      <td>96</td>\n",
       "      <td>97</td>\n",
       "      <td>98</td>\n",
       "      <td>99</td>\n",
       "    </tr>\n",
       "  </tbody>\n",
       "</table>\n",
       "</div>"
      ],
      "text/plain": [
       "    0   1   2   3   4   5   6   7   8   9\n",
       "7  70  71  72  73  74  75  76  77  78  79\n",
       "8  80  81  82  83  84  85  86  87  88  89\n",
       "9  90  91  92  93  94  95  96  97  98  99"
      ]
     },
     "execution_count": 246,
     "metadata": {},
     "output_type": "execute_result"
    }
   ],
   "source": [
    "df.tail(3)"
   ]
  },
  {
   "cell_type": "code",
   "execution_count": null,
   "id": "5bfdabfa",
   "metadata": {},
   "outputs": [],
   "source": []
  }
 ],
 "metadata": {
  "kernelspec": {
   "display_name": "Python 3 (ipykernel)",
   "language": "python",
   "name": "python3"
  },
  "language_info": {
   "codemirror_mode": {
    "name": "ipython",
    "version": 3
   },
   "file_extension": ".py",
   "mimetype": "text/x-python",
   "name": "python",
   "nbconvert_exporter": "python",
   "pygments_lexer": "ipython3",
   "version": "3.9.12"
  }
 },
 "nbformat": 4,
 "nbformat_minor": 5
}
